{
 "cells": [
  {
   "cell_type": "code",
   "execution_count": 30,
   "metadata": {
    "ExecuteTime": {
     "end_time": "2021-02-16T13:20:00.402147Z",
     "start_time": "2021-02-16T13:20:00.145875Z"
    },
    "editable": false,
    "hide_input": true,
    "init_cell": true
   },
   "outputs": [],
   "source": [
    "\n",
    "import json\n",
    "import time\n",
    "import pprint\n",
    "import warnings\n",
    "import rpy2\n",
    "from IPython.core.interactiveshell import InteractiveShell\n",
    "InteractiveShell.ast_node_interactivity = \"all\"\n",
    "from nb_processors.preprocessor import *\n",
    "pp = pprint.PrettyPrinter(indent=2)\n",
    "warnings.filterwarnings('ignore')\n",
    "%reload_ext rpy2.ipython\n",
    "from ath_magics import ath_sql\n",
    "from ath_magics import step\n",
    "from ath_magics import my_step\n",
    "from ath_magics import help\n",
    "from ath_magics import table\n",
    "from ath_magics import step_help\n",
    "from ath_magics import udf_step\n",
    "from ath_magics import ath_data\n",
    "from ath_utils.utils import load_udf\n",
    "from ath_utils.my_table import MyTable\n",
    "from ath_interface.python_udf import UDF\n",
    "from ath_utils.r_environment_setup import initialize_notebook_r_environment, update_notebook_state\n",
    "%reload_ext ath_magics.ath_sql\n",
    "%reload_ext ath_magics.step\n",
    "%reload_ext ath_magics.my_step\n",
    "%reload_ext ath_magics.help\n",
    "%reload_ext ath_magics.table\n",
    "%reload_ext ath_magics.step_help\n",
    "%reload_ext ath_magics.udf_step\n",
    "%reload_ext ath_magics.ath_data\n",
    "rpy2.robjects.pandas2ri.activate()\n",
    "%R source('/home/jovyan/data/data/functions/ath_rfunctions/ath/R/load_udf.R');\n",
    "import os\n",
    "os.environ[\"LOGGER_CONFIG\"] = \"/home/jovyan/logger.yaml\"\n"
   ]
  },
  {
   "cell_type": "code",
   "execution_count": 31,
   "metadata": {
    "ExecuteTime": {
     "end_time": "2021-02-16T13:20:00.620252Z",
     "start_time": "2021-02-16T13:20:00.404628Z"
    },
    "editable": false,
    "hide_input": true,
    "init_cell": true
   },
   "outputs": [
    {
     "data": {
      "application/javascript": [
       "IPython.notebook.set_autosave_interval(20000)"
      ]
     },
     "metadata": {},
     "output_type": "display_data"
    },
    {
     "name": "stdout",
     "output_type": "stream",
     "text": [
      "Autosaving every 20 seconds\n"
     ]
    }
   ],
   "source": [
    "\n",
    "props = {\n",
    "    \"datadirpath\":\"/home/jovyan/data/data/\",\n",
    "    \"outputFolderName\":\"data/output/\",\n",
    "    \"logFilePath\":\"None\",\n",
    "    \"functionsDefaultTimeout\":1800,\n",
    "    \"parallelCount\":4,\n",
    "    \"rFilesDirectory\":\"/home/jovyan/data/data/functions/ath_rfunctions/ath/R/\",\n",
    "    \"dataObjectPrefix\":\"dataobject_\",\n",
    "    \"tenantId\":\"da49652c-ba7d-4531-b610-a50cf856d841\",\n",
    "    \"userId\":\"157811\",\n",
    "    \"preAuth\":'{\"id\":\"363ffd87-327c-4214-8397-963a9c27bf36\",\"mappingId\":157811,\"mapping_id\":157811,\"name\":\"Rahul Kadam\",\"email\":\"kadamrahulj0909@gmail.com\",\"profileUrl\":null,\"password\":\"*****\",\"enabled\":true,\"userType\":\"individual\",\"tenant\":{\"id\":\"da49652c-ba7d-4531-b610-a50cf856d841\",\"name\":\"analyttica\"},\"userTenantId\":\"2bd64c45-34b2-4ab6-9a3a-0c94851d125e\",\"userTenantStatus\":null,\"currency\":\"INR\",\"createdOn\":\"2021-02-15T03:25:39.000+0000\",\"lastModifiedOn\":\"2021-02-15T03:25:39.000+0000\",\"roles\":[{\"id\":21,\"name\":\"B2C_BASIC_USER\",\"users\":null,\"privileges\":null}],\"privileges\":[{\"name\":\"MODIFY_DASHBOARD\"},{\"name\":\"ADD_COMMENT\"},{\"name\":\"VIEW_COURSE_SCORE\"},{\"name\":\"ENROLL_COURSE\"},{\"name\":\"ADD_COLLABORATOR\"},{\"name\":\"B2C_DEFAULT_PLAN_EMAIL\"},{\"name\":\"UPLOAD_DATA\"},{\"name\":\"CREATE_CASE\"},{\"name\":\"ACCESS_CONSOLE\"},{\"name\":\"ADD_NOTE\"}],\"planVariantId\":null,\"subscriptionExpiryDate\":null}',\n",
    "    \"baseApiUrl\":\"https://leapsapi.analyttica.com\",\n",
    "    \"stagingAreaPath\":\"/output/da49652c-ba7d-4531-b610-a50cf856d841/solve_104531/user_157811/data\",\n",
    "    \"urls\":{'addDatasetsUrl': {'method': 'POST', 'ContentType': 'application/vnd.Analyttica.TreasureHunt.PathDTO+json', 'href': '/step/users/157811/solveDetail/104531/addDatasets'}, 'aliasUrl': {'method': 'GET', 'ContentType': 'application/json', 'href': '/step/users/157811/solveDetail/104531/table/getLatest'}, 'detailsUrl': {'method': 'GET', 'ContentType': 'application/json', 'href': '/functions/{functionId}/functionDetails'}, 'deleteDataObject': {'method': 'PUT', 'ContentType': 'application/json', 'href': '/file/deleteDataObject'}, 'allAliasUrl': {'method': 'GET', 'ContentType': 'application/json', 'href': '/step/users/157811/solveDetail/104531/table/getAll'}, 'searchUrl': {'method': 'GET', 'ContentType': 'application/json', 'href': '/functions/suggestions?query'}, 'dataObjectNameValidationUrl': {'method': 'GET', 'ContentType': 'application/json', 'href': '/step/users/157811/dataObject/validate/{dataObjectName}'}, 'dataObjectDetails': {'method': 'GET', 'ContentType': 'application/json', 'href': '/step/users/157811/dataObject/getDataObjectAll'}, 'createStepUrl': {'method': 'POST', 'ContentType': 'application/vnd.Analyttica.TreasureHunt.UserStep+json', 'href': '/step/users/157811/solveDetail/104531/steps'}},\n",
    "    \"funcDetailsByNameUrl\":{'method': 'GET', 'ContentType': 'application/json', 'href': '/functions/name/{functionName}/functionDetails'},\n",
    "    \"udfCodeRootDir\":\"/mnt/rdata/data/udf\",\n",
    "    \"udfCodeRootDirInNotebook\":\"/home/jovyan/data/data/udf\",\n",
    "    \"baseDataUrl\":\"https://leapsdata.analyttica.com\",\n",
    "    \"uiDataRowLimit\":200,\n",
    "    \"lastStepId\":\"None\",\n",
    "}\n",
    "execStartTime = int(round(time.time() * 1000))\n",
    "outputFolderNameProp=\"\"\n",
    "pythonFilesDir=\"\"\n",
    "queuePublisher=\"\"\n",
    "local_store=None\n",
    "if os.environ.get('DATADIRPATH'):\n",
    "    props['datadirpath'] = os.environ.get('DATADIRPATH')\n",
    "if \"CONSOLE\" == \"SOLUTION\" or \"CONSOLE\" == \"CONSOLE\":\n",
    "    local_store=dict()\n",
    "    if \"CONSOLE\" == \"CONSOLE\":\n",
    "        initialize_notebook_r_environment(**props)\n",
    "        data_converter = MyTable(**props)\n",
    "        get_ipython().system = lambda *args: print('! is disabled!')\n",
    "    %autosave 20\n"
   ]
  },
  {
   "cell_type": "code",
   "execution_count": 5,
   "metadata": {
    "ExecuteTime": {
     "end_time": "2021-02-16T13:12:28.415359Z",
     "start_time": "2021-02-16T13:12:26.576954Z"
    },
    "editable": false,
    "hide_input": true
   },
   "outputs": [
    {
     "name": "stdout",
     "output_type": "stream",
     "text": [
      "Total number of tables:  9\n",
      "1.Test\n",
      "2.Train\n",
      "3.Table_2\n",
      "4.Table_3\n",
      "5.Table_4\n",
      "6.Table_5\n",
      "7.Table_6\n",
      "8.Table_7\n",
      "9.Table_8\n",
      "\n",
      "######## TABLE DETAILS #########\n",
      "\n",
      "1.Test(3000 rows, 13 columns)\n"
     ]
    },
    {
     "data": {
      "text/html": [
       "<div>\n",
       "<style scoped>\n",
       "    .dataframe tbody tr th:only-of-type {\n",
       "        vertical-align: middle;\n",
       "    }\n",
       "\n",
       "    .dataframe tbody tr th {\n",
       "        vertical-align: top;\n",
       "    }\n",
       "\n",
       "    .dataframe thead th {\n",
       "        text-align: right;\n",
       "    }\n",
       "</style>\n",
       "<table border=\"1\" class=\"dataframe\">\n",
       "  <thead>\n",
       "    <tr style=\"text-align: right;\">\n",
       "      <th></th>\n",
       "      <th>id</th>\n",
       "      <th>gender</th>\n",
       "      <th>ssc_pct</th>\n",
       "      <th>ssc_board</th>\n",
       "      <th>hsc_pct</th>\n",
       "      <th>hsc_board</th>\n",
       "      <th>hsc_stream</th>\n",
       "      <th>degree_pct</th>\n",
       "      <th>degree_type</th>\n",
       "      <th>work_exp</th>\n",
       "      <th>emptest_pct</th>\n",
       "      <th>stream</th>\n",
       "      <th>mba_pct</th>\n",
       "    </tr>\n",
       "  </thead>\n",
       "  <tbody>\n",
       "    <tr>\n",
       "      <th>0</th>\n",
       "      <td>20001</td>\n",
       "      <td>Female</td>\n",
       "      <td>65.16</td>\n",
       "      <td>Central Board</td>\n",
       "      <td>57.82</td>\n",
       "      <td>Central Board</td>\n",
       "      <td>Commerce</td>\n",
       "      <td>73.00</td>\n",
       "      <td>Commerce &amp; Mgmt</td>\n",
       "      <td>No</td>\n",
       "      <td>57.16</td>\n",
       "      <td>HR</td>\n",
       "      <td>59.88</td>\n",
       "    </tr>\n",
       "    <tr>\n",
       "      <th>1</th>\n",
       "      <td>20002</td>\n",
       "      <td>Male</td>\n",
       "      <td>60.47</td>\n",
       "      <td>State Board</td>\n",
       "      <td>49.34</td>\n",
       "      <td>State Board</td>\n",
       "      <td>Science</td>\n",
       "      <td>55.33</td>\n",
       "      <td>Science &amp; Tech</td>\n",
       "      <td>No</td>\n",
       "      <td>72.70</td>\n",
       "      <td>Finance</td>\n",
       "      <td>67.63</td>\n",
       "    </tr>\n",
       "  </tbody>\n",
       "</table>\n",
       "</div>"
      ],
      "text/plain": [
       "      id  gender  ssc_pct      ssc_board  hsc_pct      hsc_board hsc_stream  \\\n",
       "0  20001  Female  65.16    Central Board  57.82    Central Board  Commerce    \n",
       "1  20002  Male    60.47    State Board    49.34    State Board    Science     \n",
       "\n",
       "   degree_pct      degree_type work_exp  emptest_pct   stream  mba_pct  \n",
       "0  73.00       Commerce & Mgmt  No       57.16        HR       59.88    \n",
       "1  55.33       Science & Tech   No       72.70        Finance  67.63    "
      ]
     },
     "metadata": {},
     "output_type": "display_data"
    },
    {
     "name": "stdout",
     "output_type": "stream",
     "text": [
      "2.Train(7000 rows, 14 columns)\n"
     ]
    },
    {
     "data": {
      "text/html": [
       "<div>\n",
       "<style scoped>\n",
       "    .dataframe tbody tr th:only-of-type {\n",
       "        vertical-align: middle;\n",
       "    }\n",
       "\n",
       "    .dataframe tbody tr th {\n",
       "        vertical-align: top;\n",
       "    }\n",
       "\n",
       "    .dataframe thead th {\n",
       "        text-align: right;\n",
       "    }\n",
       "</style>\n",
       "<table border=\"1\" class=\"dataframe\">\n",
       "  <thead>\n",
       "    <tr style=\"text-align: right;\">\n",
       "      <th></th>\n",
       "      <th>id</th>\n",
       "      <th>gender</th>\n",
       "      <th>ssc_pct</th>\n",
       "      <th>ssc_board</th>\n",
       "      <th>hsc_pct</th>\n",
       "      <th>hsc_board</th>\n",
       "      <th>hsc_stream</th>\n",
       "      <th>degree_pct</th>\n",
       "      <th>degree_type</th>\n",
       "      <th>work_exp</th>\n",
       "      <th>emptest_pct</th>\n",
       "      <th>stream</th>\n",
       "      <th>mba_pct</th>\n",
       "      <th>status</th>\n",
       "    </tr>\n",
       "  </thead>\n",
       "  <tbody>\n",
       "    <tr>\n",
       "      <th>0</th>\n",
       "      <td>10001</td>\n",
       "      <td>Female</td>\n",
       "      <td>69.31</td>\n",
       "      <td>Central Board</td>\n",
       "      <td>73.31</td>\n",
       "      <td>Central Board</td>\n",
       "      <td>Commerce</td>\n",
       "      <td>65.10</td>\n",
       "      <td>Commerce &amp; Mgmt</td>\n",
       "      <td>No</td>\n",
       "      <td>70.92</td>\n",
       "      <td>Finance</td>\n",
       "      <td>56.70</td>\n",
       "      <td>0</td>\n",
       "    </tr>\n",
       "    <tr>\n",
       "      <th>1</th>\n",
       "      <td>10002</td>\n",
       "      <td>Male</td>\n",
       "      <td>67.12</td>\n",
       "      <td>Central Board</td>\n",
       "      <td>85.11</td>\n",
       "      <td>State Board</td>\n",
       "      <td>Commerce</td>\n",
       "      <td>73.63</td>\n",
       "      <td>Commerce &amp; Mgmt</td>\n",
       "      <td>No</td>\n",
       "      <td>87.40</td>\n",
       "      <td>Finance</td>\n",
       "      <td>60.76</td>\n",
       "      <td>0</td>\n",
       "    </tr>\n",
       "  </tbody>\n",
       "</table>\n",
       "</div>"
      ],
      "text/plain": [
       "      id  gender  ssc_pct      ssc_board  hsc_pct      hsc_board hsc_stream  \\\n",
       "0  10001  Female  69.31    Central Board  73.31    Central Board  Commerce    \n",
       "1  10002  Male    67.12    Central Board  85.11    State Board    Commerce    \n",
       "\n",
       "   degree_pct      degree_type work_exp  emptest_pct   stream  mba_pct  status  \n",
       "0  65.10       Commerce & Mgmt  No       70.92        Finance  56.70    0       \n",
       "1  73.63       Commerce & Mgmt  No       87.40        Finance  60.76    0       "
      ]
     },
     "metadata": {},
     "output_type": "display_data"
    },
    {
     "name": "stdout",
     "output_type": "stream",
     "text": [
      "3.Table_2(3000 rows, 13 columns)\n"
     ]
    },
    {
     "data": {
      "text/html": [
       "<div>\n",
       "<style scoped>\n",
       "    .dataframe tbody tr th:only-of-type {\n",
       "        vertical-align: middle;\n",
       "    }\n",
       "\n",
       "    .dataframe tbody tr th {\n",
       "        vertical-align: top;\n",
       "    }\n",
       "\n",
       "    .dataframe thead th {\n",
       "        text-align: right;\n",
       "    }\n",
       "</style>\n",
       "<table border=\"1\" class=\"dataframe\">\n",
       "  <thead>\n",
       "    <tr style=\"text-align: right;\">\n",
       "      <th></th>\n",
       "      <th>id</th>\n",
       "      <th>gender</th>\n",
       "      <th>ssc_pct</th>\n",
       "      <th>ssc_board</th>\n",
       "      <th>hsc_pct</th>\n",
       "      <th>hsc_board</th>\n",
       "      <th>hsc_stream</th>\n",
       "      <th>degree_pct</th>\n",
       "      <th>degree_type</th>\n",
       "      <th>work_exp</th>\n",
       "      <th>emptest_pct</th>\n",
       "      <th>stream</th>\n",
       "      <th>mba_pct</th>\n",
       "    </tr>\n",
       "  </thead>\n",
       "  <tbody>\n",
       "    <tr>\n",
       "      <th>0</th>\n",
       "      <td>20001</td>\n",
       "      <td>Female</td>\n",
       "      <td>65.16</td>\n",
       "      <td>Central Board</td>\n",
       "      <td>57.82</td>\n",
       "      <td>Central Board</td>\n",
       "      <td>Commerce</td>\n",
       "      <td>73.00</td>\n",
       "      <td>Commerce &amp; Mgmt</td>\n",
       "      <td>No</td>\n",
       "      <td>57.16</td>\n",
       "      <td>HR</td>\n",
       "      <td>59.88</td>\n",
       "    </tr>\n",
       "    <tr>\n",
       "      <th>1</th>\n",
       "      <td>20002</td>\n",
       "      <td>Male</td>\n",
       "      <td>60.47</td>\n",
       "      <td>State Board</td>\n",
       "      <td>49.34</td>\n",
       "      <td>State Board</td>\n",
       "      <td>Science</td>\n",
       "      <td>55.33</td>\n",
       "      <td>Science &amp; Tech</td>\n",
       "      <td>No</td>\n",
       "      <td>72.70</td>\n",
       "      <td>Finance</td>\n",
       "      <td>67.63</td>\n",
       "    </tr>\n",
       "  </tbody>\n",
       "</table>\n",
       "</div>"
      ],
      "text/plain": [
       "      id  gender  ssc_pct      ssc_board  hsc_pct      hsc_board hsc_stream  \\\n",
       "0  20001  Female  65.16    Central Board  57.82    Central Board  Commerce    \n",
       "1  20002  Male    60.47    State Board    49.34    State Board    Science     \n",
       "\n",
       "   degree_pct      degree_type work_exp  emptest_pct   stream  mba_pct  \n",
       "0  73.00       Commerce & Mgmt  No       57.16        HR       59.88    \n",
       "1  55.33       Science & Tech   No       72.70        Finance  67.63    "
      ]
     },
     "metadata": {},
     "output_type": "display_data"
    },
    {
     "name": "stdout",
     "output_type": "stream",
     "text": [
      "4.Table_3(3000 rows, 14 columns)\n"
     ]
    },
    {
     "data": {
      "text/html": [
       "<div>\n",
       "<style scoped>\n",
       "    .dataframe tbody tr th:only-of-type {\n",
       "        vertical-align: middle;\n",
       "    }\n",
       "\n",
       "    .dataframe tbody tr th {\n",
       "        vertical-align: top;\n",
       "    }\n",
       "\n",
       "    .dataframe thead th {\n",
       "        text-align: right;\n",
       "    }\n",
       "</style>\n",
       "<table border=\"1\" class=\"dataframe\">\n",
       "  <thead>\n",
       "    <tr style=\"text-align: right;\">\n",
       "      <th></th>\n",
       "      <th>id</th>\n",
       "      <th>gender</th>\n",
       "      <th>ssc_pct</th>\n",
       "      <th>ssc_board</th>\n",
       "      <th>hsc_pct</th>\n",
       "      <th>hsc_board</th>\n",
       "      <th>hsc_stream</th>\n",
       "      <th>degree_pct</th>\n",
       "      <th>degree_type</th>\n",
       "      <th>work_exp</th>\n",
       "      <th>emptest_pct</th>\n",
       "      <th>stream</th>\n",
       "      <th>mba_pct</th>\n",
       "      <th>predictecd_prob</th>\n",
       "    </tr>\n",
       "  </thead>\n",
       "  <tbody>\n",
       "    <tr>\n",
       "      <th>0</th>\n",
       "      <td>20001</td>\n",
       "      <td>Female</td>\n",
       "      <td>65.16</td>\n",
       "      <td>Central Board</td>\n",
       "      <td>57.82</td>\n",
       "      <td>Central Board</td>\n",
       "      <td>Commerce</td>\n",
       "      <td>73.00</td>\n",
       "      <td>Commerce &amp; Mgmt</td>\n",
       "      <td>No</td>\n",
       "      <td>57.16</td>\n",
       "      <td>HR</td>\n",
       "      <td>59.88</td>\n",
       "      <td>0</td>\n",
       "    </tr>\n",
       "    <tr>\n",
       "      <th>1</th>\n",
       "      <td>20002</td>\n",
       "      <td>Male</td>\n",
       "      <td>60.47</td>\n",
       "      <td>State Board</td>\n",
       "      <td>49.34</td>\n",
       "      <td>State Board</td>\n",
       "      <td>Science</td>\n",
       "      <td>55.33</td>\n",
       "      <td>Science &amp; Tech</td>\n",
       "      <td>No</td>\n",
       "      <td>72.70</td>\n",
       "      <td>Finance</td>\n",
       "      <td>67.63</td>\n",
       "      <td>0</td>\n",
       "    </tr>\n",
       "  </tbody>\n",
       "</table>\n",
       "</div>"
      ],
      "text/plain": [
       "      id  gender  ssc_pct      ssc_board  hsc_pct      hsc_board hsc_stream  \\\n",
       "0  20001  Female  65.16    Central Board  57.82    Central Board  Commerce    \n",
       "1  20002  Male    60.47    State Board    49.34    State Board    Science     \n",
       "\n",
       "   degree_pct      degree_type work_exp  emptest_pct   stream  mba_pct  \\\n",
       "0  73.00       Commerce & Mgmt  No       57.16        HR       59.88     \n",
       "1  55.33       Science & Tech   No       72.70        Finance  67.63     \n",
       "\n",
       "   predictecd_prob  \n",
       "0  0                \n",
       "1  0                "
      ]
     },
     "metadata": {},
     "output_type": "display_data"
    },
    {
     "name": "stdout",
     "output_type": "stream",
     "text": [
      "5.Table_4(3000 rows, 14 columns)\n"
     ]
    },
    {
     "data": {
      "text/html": [
       "<div>\n",
       "<style scoped>\n",
       "    .dataframe tbody tr th:only-of-type {\n",
       "        vertical-align: middle;\n",
       "    }\n",
       "\n",
       "    .dataframe tbody tr th {\n",
       "        vertical-align: top;\n",
       "    }\n",
       "\n",
       "    .dataframe thead th {\n",
       "        text-align: right;\n",
       "    }\n",
       "</style>\n",
       "<table border=\"1\" class=\"dataframe\">\n",
       "  <thead>\n",
       "    <tr style=\"text-align: right;\">\n",
       "      <th></th>\n",
       "      <th>id</th>\n",
       "      <th>gender</th>\n",
       "      <th>ssc_pct</th>\n",
       "      <th>ssc_board</th>\n",
       "      <th>hsc_pct</th>\n",
       "      <th>hsc_board</th>\n",
       "      <th>hsc_stream</th>\n",
       "      <th>degree_pct</th>\n",
       "      <th>degree_type</th>\n",
       "      <th>work_exp</th>\n",
       "      <th>emptest_pct</th>\n",
       "      <th>stream</th>\n",
       "      <th>mba_pct</th>\n",
       "      <th>predictecd_prob</th>\n",
       "    </tr>\n",
       "  </thead>\n",
       "  <tbody>\n",
       "    <tr>\n",
       "      <th>0</th>\n",
       "      <td>20001</td>\n",
       "      <td>Female</td>\n",
       "      <td>65.16</td>\n",
       "      <td>Central Board</td>\n",
       "      <td>57.82</td>\n",
       "      <td>Central Board</td>\n",
       "      <td>Commerce</td>\n",
       "      <td>73.00</td>\n",
       "      <td>Commerce &amp; Mgmt</td>\n",
       "      <td>No</td>\n",
       "      <td>57.16</td>\n",
       "      <td>HR</td>\n",
       "      <td>59.88</td>\n",
       "      <td>0</td>\n",
       "    </tr>\n",
       "    <tr>\n",
       "      <th>1</th>\n",
       "      <td>20002</td>\n",
       "      <td>Male</td>\n",
       "      <td>60.47</td>\n",
       "      <td>State Board</td>\n",
       "      <td>49.34</td>\n",
       "      <td>State Board</td>\n",
       "      <td>Science</td>\n",
       "      <td>55.33</td>\n",
       "      <td>Science &amp; Tech</td>\n",
       "      <td>No</td>\n",
       "      <td>72.70</td>\n",
       "      <td>Finance</td>\n",
       "      <td>67.63</td>\n",
       "      <td>0</td>\n",
       "    </tr>\n",
       "  </tbody>\n",
       "</table>\n",
       "</div>"
      ],
      "text/plain": [
       "      id  gender  ssc_pct      ssc_board  hsc_pct      hsc_board hsc_stream  \\\n",
       "0  20001  Female  65.16    Central Board  57.82    Central Board  Commerce    \n",
       "1  20002  Male    60.47    State Board    49.34    State Board    Science     \n",
       "\n",
       "   degree_pct      degree_type work_exp  emptest_pct   stream  mba_pct  \\\n",
       "0  73.00       Commerce & Mgmt  No       57.16        HR       59.88     \n",
       "1  55.33       Science & Tech   No       72.70        Finance  67.63     \n",
       "\n",
       "   predictecd_prob  \n",
       "0  0                \n",
       "1  0                "
      ]
     },
     "metadata": {},
     "output_type": "display_data"
    },
    {
     "name": "stdout",
     "output_type": "stream",
     "text": [
      "6.Table_5(3000 rows, 14 columns)\n"
     ]
    },
    {
     "data": {
      "text/html": [
       "<div>\n",
       "<style scoped>\n",
       "    .dataframe tbody tr th:only-of-type {\n",
       "        vertical-align: middle;\n",
       "    }\n",
       "\n",
       "    .dataframe tbody tr th {\n",
       "        vertical-align: top;\n",
       "    }\n",
       "\n",
       "    .dataframe thead th {\n",
       "        text-align: right;\n",
       "    }\n",
       "</style>\n",
       "<table border=\"1\" class=\"dataframe\">\n",
       "  <thead>\n",
       "    <tr style=\"text-align: right;\">\n",
       "      <th></th>\n",
       "      <th>id</th>\n",
       "      <th>gender</th>\n",
       "      <th>ssc_pct</th>\n",
       "      <th>ssc_board</th>\n",
       "      <th>hsc_pct</th>\n",
       "      <th>hsc_board</th>\n",
       "      <th>hsc_stream</th>\n",
       "      <th>degree_pct</th>\n",
       "      <th>degree_type</th>\n",
       "      <th>work_exp</th>\n",
       "      <th>emptest_pct</th>\n",
       "      <th>stream</th>\n",
       "      <th>mba_pct</th>\n",
       "      <th>predictecd_prob</th>\n",
       "    </tr>\n",
       "  </thead>\n",
       "  <tbody>\n",
       "    <tr>\n",
       "      <th>0</th>\n",
       "      <td>20001</td>\n",
       "      <td>Female</td>\n",
       "      <td>65.16</td>\n",
       "      <td>Central Board</td>\n",
       "      <td>57.82</td>\n",
       "      <td>Central Board</td>\n",
       "      <td>Commerce</td>\n",
       "      <td>73.00</td>\n",
       "      <td>Commerce &amp; Mgmt</td>\n",
       "      <td>No</td>\n",
       "      <td>57.16</td>\n",
       "      <td>HR</td>\n",
       "      <td>59.88</td>\n",
       "      <td>0</td>\n",
       "    </tr>\n",
       "    <tr>\n",
       "      <th>1</th>\n",
       "      <td>20002</td>\n",
       "      <td>Male</td>\n",
       "      <td>60.47</td>\n",
       "      <td>State Board</td>\n",
       "      <td>49.34</td>\n",
       "      <td>State Board</td>\n",
       "      <td>Science</td>\n",
       "      <td>55.33</td>\n",
       "      <td>Science &amp; Tech</td>\n",
       "      <td>No</td>\n",
       "      <td>72.70</td>\n",
       "      <td>Finance</td>\n",
       "      <td>67.63</td>\n",
       "      <td>0</td>\n",
       "    </tr>\n",
       "  </tbody>\n",
       "</table>\n",
       "</div>"
      ],
      "text/plain": [
       "      id  gender  ssc_pct      ssc_board  hsc_pct      hsc_board hsc_stream  \\\n",
       "0  20001  Female  65.16    Central Board  57.82    Central Board  Commerce    \n",
       "1  20002  Male    60.47    State Board    49.34    State Board    Science     \n",
       "\n",
       "   degree_pct      degree_type work_exp  emptest_pct   stream  mba_pct  \\\n",
       "0  73.00       Commerce & Mgmt  No       57.16        HR       59.88     \n",
       "1  55.33       Science & Tech   No       72.70        Finance  67.63     \n",
       "\n",
       "   predictecd_prob  \n",
       "0  0                \n",
       "1  0                "
      ]
     },
     "metadata": {},
     "output_type": "display_data"
    },
    {
     "name": "stdout",
     "output_type": "stream",
     "text": [
      "7.Table_6(3000 rows, 14 columns)\n"
     ]
    },
    {
     "data": {
      "text/html": [
       "<div>\n",
       "<style scoped>\n",
       "    .dataframe tbody tr th:only-of-type {\n",
       "        vertical-align: middle;\n",
       "    }\n",
       "\n",
       "    .dataframe tbody tr th {\n",
       "        vertical-align: top;\n",
       "    }\n",
       "\n",
       "    .dataframe thead th {\n",
       "        text-align: right;\n",
       "    }\n",
       "</style>\n",
       "<table border=\"1\" class=\"dataframe\">\n",
       "  <thead>\n",
       "    <tr style=\"text-align: right;\">\n",
       "      <th></th>\n",
       "      <th>id</th>\n",
       "      <th>gender</th>\n",
       "      <th>ssc_pct</th>\n",
       "      <th>ssc_board</th>\n",
       "      <th>hsc_pct</th>\n",
       "      <th>hsc_board</th>\n",
       "      <th>hsc_stream</th>\n",
       "      <th>degree_pct</th>\n",
       "      <th>degree_type</th>\n",
       "      <th>work_exp</th>\n",
       "      <th>emptest_pct</th>\n",
       "      <th>stream</th>\n",
       "      <th>mba_pct</th>\n",
       "      <th>predictecd_prob</th>\n",
       "    </tr>\n",
       "  </thead>\n",
       "  <tbody>\n",
       "    <tr>\n",
       "      <th>0</th>\n",
       "      <td>20001</td>\n",
       "      <td>Female</td>\n",
       "      <td>65.16</td>\n",
       "      <td>Central Board</td>\n",
       "      <td>57.82</td>\n",
       "      <td>Central Board</td>\n",
       "      <td>Commerce</td>\n",
       "      <td>73.00</td>\n",
       "      <td>Commerce &amp; Mgmt</td>\n",
       "      <td>No</td>\n",
       "      <td>57.16</td>\n",
       "      <td>HR</td>\n",
       "      <td>59.88</td>\n",
       "      <td>0</td>\n",
       "    </tr>\n",
       "    <tr>\n",
       "      <th>1</th>\n",
       "      <td>20002</td>\n",
       "      <td>Male</td>\n",
       "      <td>60.47</td>\n",
       "      <td>State Board</td>\n",
       "      <td>49.34</td>\n",
       "      <td>State Board</td>\n",
       "      <td>Science</td>\n",
       "      <td>55.33</td>\n",
       "      <td>Science &amp; Tech</td>\n",
       "      <td>No</td>\n",
       "      <td>72.70</td>\n",
       "      <td>Finance</td>\n",
       "      <td>67.63</td>\n",
       "      <td>0</td>\n",
       "    </tr>\n",
       "  </tbody>\n",
       "</table>\n",
       "</div>"
      ],
      "text/plain": [
       "      id  gender  ssc_pct      ssc_board  hsc_pct      hsc_board hsc_stream  \\\n",
       "0  20001  Female  65.16    Central Board  57.82    Central Board  Commerce    \n",
       "1  20002  Male    60.47    State Board    49.34    State Board    Science     \n",
       "\n",
       "   degree_pct      degree_type work_exp  emptest_pct   stream  mba_pct  \\\n",
       "0  73.00       Commerce & Mgmt  No       57.16        HR       59.88     \n",
       "1  55.33       Science & Tech   No       72.70        Finance  67.63     \n",
       "\n",
       "   predictecd_prob  \n",
       "0  0                \n",
       "1  0                "
      ]
     },
     "metadata": {},
     "output_type": "display_data"
    },
    {
     "name": "stdout",
     "output_type": "stream",
     "text": [
      "8.Table_7(3000 rows, 14 columns)\n"
     ]
    },
    {
     "data": {
      "text/html": [
       "<div>\n",
       "<style scoped>\n",
       "    .dataframe tbody tr th:only-of-type {\n",
       "        vertical-align: middle;\n",
       "    }\n",
       "\n",
       "    .dataframe tbody tr th {\n",
       "        vertical-align: top;\n",
       "    }\n",
       "\n",
       "    .dataframe thead th {\n",
       "        text-align: right;\n",
       "    }\n",
       "</style>\n",
       "<table border=\"1\" class=\"dataframe\">\n",
       "  <thead>\n",
       "    <tr style=\"text-align: right;\">\n",
       "      <th></th>\n",
       "      <th>id</th>\n",
       "      <th>gender</th>\n",
       "      <th>ssc_pct</th>\n",
       "      <th>ssc_board</th>\n",
       "      <th>hsc_pct</th>\n",
       "      <th>hsc_board</th>\n",
       "      <th>hsc_stream</th>\n",
       "      <th>degree_pct</th>\n",
       "      <th>degree_type</th>\n",
       "      <th>work_exp</th>\n",
       "      <th>emptest_pct</th>\n",
       "      <th>stream</th>\n",
       "      <th>mba_pct</th>\n",
       "      <th>predictecd_prob</th>\n",
       "    </tr>\n",
       "  </thead>\n",
       "  <tbody>\n",
       "    <tr>\n",
       "      <th>0</th>\n",
       "      <td>20001</td>\n",
       "      <td>Female</td>\n",
       "      <td>65.16</td>\n",
       "      <td>Central Board</td>\n",
       "      <td>57.82</td>\n",
       "      <td>Central Board</td>\n",
       "      <td>Commerce</td>\n",
       "      <td>73.00</td>\n",
       "      <td>Commerce &amp; Mgmt</td>\n",
       "      <td>No</td>\n",
       "      <td>57.16</td>\n",
       "      <td>HR</td>\n",
       "      <td>59.88</td>\n",
       "      <td>0</td>\n",
       "    </tr>\n",
       "    <tr>\n",
       "      <th>1</th>\n",
       "      <td>20002</td>\n",
       "      <td>Male</td>\n",
       "      <td>60.47</td>\n",
       "      <td>State Board</td>\n",
       "      <td>49.34</td>\n",
       "      <td>State Board</td>\n",
       "      <td>Science</td>\n",
       "      <td>55.33</td>\n",
       "      <td>Science &amp; Tech</td>\n",
       "      <td>No</td>\n",
       "      <td>72.70</td>\n",
       "      <td>Finance</td>\n",
       "      <td>67.63</td>\n",
       "      <td>0</td>\n",
       "    </tr>\n",
       "  </tbody>\n",
       "</table>\n",
       "</div>"
      ],
      "text/plain": [
       "      id  gender  ssc_pct      ssc_board  hsc_pct      hsc_board hsc_stream  \\\n",
       "0  20001  Female  65.16    Central Board  57.82    Central Board  Commerce    \n",
       "1  20002  Male    60.47    State Board    49.34    State Board    Science     \n",
       "\n",
       "   degree_pct      degree_type work_exp  emptest_pct   stream  mba_pct  \\\n",
       "0  73.00       Commerce & Mgmt  No       57.16        HR       59.88     \n",
       "1  55.33       Science & Tech   No       72.70        Finance  67.63     \n",
       "\n",
       "   predictecd_prob  \n",
       "0  0                \n",
       "1  0                "
      ]
     },
     "metadata": {},
     "output_type": "display_data"
    },
    {
     "name": "stdout",
     "output_type": "stream",
     "text": [
      "9.Table_8(3000 rows, 14 columns)\n"
     ]
    },
    {
     "data": {
      "text/html": [
       "<div>\n",
       "<style scoped>\n",
       "    .dataframe tbody tr th:only-of-type {\n",
       "        vertical-align: middle;\n",
       "    }\n",
       "\n",
       "    .dataframe tbody tr th {\n",
       "        vertical-align: top;\n",
       "    }\n",
       "\n",
       "    .dataframe thead th {\n",
       "        text-align: right;\n",
       "    }\n",
       "</style>\n",
       "<table border=\"1\" class=\"dataframe\">\n",
       "  <thead>\n",
       "    <tr style=\"text-align: right;\">\n",
       "      <th></th>\n",
       "      <th>id</th>\n",
       "      <th>gender</th>\n",
       "      <th>ssc_pct</th>\n",
       "      <th>ssc_board</th>\n",
       "      <th>hsc_pct</th>\n",
       "      <th>hsc_board</th>\n",
       "      <th>hsc_stream</th>\n",
       "      <th>degree_pct</th>\n",
       "      <th>degree_type</th>\n",
       "      <th>work_exp</th>\n",
       "      <th>emptest_pct</th>\n",
       "      <th>stream</th>\n",
       "      <th>mba_pct</th>\n",
       "      <th>predictecd_prob</th>\n",
       "    </tr>\n",
       "  </thead>\n",
       "  <tbody>\n",
       "    <tr>\n",
       "      <th>0</th>\n",
       "      <td>20001</td>\n",
       "      <td>Female</td>\n",
       "      <td>65.16</td>\n",
       "      <td>Central Board</td>\n",
       "      <td>57.82</td>\n",
       "      <td>Central Board</td>\n",
       "      <td>Commerce</td>\n",
       "      <td>73.00</td>\n",
       "      <td>Commerce &amp; Mgmt</td>\n",
       "      <td>No</td>\n",
       "      <td>57.16</td>\n",
       "      <td>HR</td>\n",
       "      <td>59.88</td>\n",
       "      <td>0</td>\n",
       "    </tr>\n",
       "    <tr>\n",
       "      <th>1</th>\n",
       "      <td>20002</td>\n",
       "      <td>Male</td>\n",
       "      <td>60.47</td>\n",
       "      <td>State Board</td>\n",
       "      <td>49.34</td>\n",
       "      <td>State Board</td>\n",
       "      <td>Science</td>\n",
       "      <td>55.33</td>\n",
       "      <td>Science &amp; Tech</td>\n",
       "      <td>No</td>\n",
       "      <td>72.70</td>\n",
       "      <td>Finance</td>\n",
       "      <td>67.63</td>\n",
       "      <td>0</td>\n",
       "    </tr>\n",
       "  </tbody>\n",
       "</table>\n",
       "</div>"
      ],
      "text/plain": [
       "      id  gender  ssc_pct      ssc_board  hsc_pct      hsc_board hsc_stream  \\\n",
       "0  20001  Female  65.16    Central Board  57.82    Central Board  Commerce    \n",
       "1  20002  Male    60.47    State Board    49.34    State Board    Science     \n",
       "\n",
       "   degree_pct      degree_type work_exp  emptest_pct   stream  mba_pct  \\\n",
       "0  73.00       Commerce & Mgmt  No       57.16        HR       59.88     \n",
       "1  55.33       Science & Tech   No       72.70        Finance  67.63     \n",
       "\n",
       "   predictecd_prob  \n",
       "0  0                \n",
       "1  0                "
      ]
     },
     "metadata": {},
     "output_type": "display_data"
    }
   ],
   "source": [
    "%ath_table\n",
    "\n",
    "# Lists the details of the tables (datasets) available in the point & click view\n",
    "# Use '%ath_table -a <table_name> -l <python_dataframe_name>' to load the table to a Python dataframe.\n",
    "# Alternatively, python_dataframe_name = data_converter.convert_my_table_to_df('<table_name>') can also be used to load the table to a Python dataframe.\n"
   ]
  },
  {
   "cell_type": "code",
   "execution_count": 6,
   "metadata": {
    "ExecuteTime": {
     "end_time": "2021-02-16T13:12:28.803095Z",
     "start_time": "2021-02-16T13:12:28.497572Z"
    },
    "slideshow": {
     "slide_type": "slide"
    }
   },
   "outputs": [
    {
     "name": "stdout",
     "output_type": "stream",
     "text": [
      "Loaded table Train as dataframe\n"
     ]
    },
    {
     "data": {
      "text/html": [
       "<div>\n",
       "<style scoped>\n",
       "    .dataframe tbody tr th:only-of-type {\n",
       "        vertical-align: middle;\n",
       "    }\n",
       "\n",
       "    .dataframe tbody tr th {\n",
       "        vertical-align: top;\n",
       "    }\n",
       "\n",
       "    .dataframe thead th {\n",
       "        text-align: right;\n",
       "    }\n",
       "</style>\n",
       "<table border=\"1\" class=\"dataframe\">\n",
       "  <thead>\n",
       "    <tr style=\"text-align: right;\">\n",
       "      <th></th>\n",
       "      <th>id</th>\n",
       "      <th>gender</th>\n",
       "      <th>ssc_pct</th>\n",
       "      <th>ssc_board</th>\n",
       "      <th>hsc_pct</th>\n",
       "      <th>hsc_board</th>\n",
       "      <th>hsc_stream</th>\n",
       "      <th>degree_pct</th>\n",
       "      <th>degree_type</th>\n",
       "      <th>work_exp</th>\n",
       "      <th>emptest_pct</th>\n",
       "      <th>stream</th>\n",
       "      <th>mba_pct</th>\n",
       "      <th>status</th>\n",
       "    </tr>\n",
       "  </thead>\n",
       "  <tbody>\n",
       "    <tr>\n",
       "      <th>0</th>\n",
       "      <td>10001</td>\n",
       "      <td>Female</td>\n",
       "      <td>69.31</td>\n",
       "      <td>Central Board</td>\n",
       "      <td>73.31</td>\n",
       "      <td>Central Board</td>\n",
       "      <td>Commerce</td>\n",
       "      <td>65.10</td>\n",
       "      <td>Commerce &amp; Mgmt</td>\n",
       "      <td>No</td>\n",
       "      <td>70.92</td>\n",
       "      <td>Finance</td>\n",
       "      <td>56.70</td>\n",
       "      <td>0</td>\n",
       "    </tr>\n",
       "    <tr>\n",
       "      <th>1</th>\n",
       "      <td>10002</td>\n",
       "      <td>Male</td>\n",
       "      <td>67.12</td>\n",
       "      <td>Central Board</td>\n",
       "      <td>85.11</td>\n",
       "      <td>State Board</td>\n",
       "      <td>Commerce</td>\n",
       "      <td>73.63</td>\n",
       "      <td>Commerce &amp; Mgmt</td>\n",
       "      <td>No</td>\n",
       "      <td>87.40</td>\n",
       "      <td>Finance</td>\n",
       "      <td>60.76</td>\n",
       "      <td>0</td>\n",
       "    </tr>\n",
       "    <tr>\n",
       "      <th>2</th>\n",
       "      <td>10003</td>\n",
       "      <td>Male</td>\n",
       "      <td>80.46</td>\n",
       "      <td>Central Board</td>\n",
       "      <td>57.43</td>\n",
       "      <td>Central Board</td>\n",
       "      <td>Science</td>\n",
       "      <td>65.38</td>\n",
       "      <td>Science &amp; Tech</td>\n",
       "      <td>Yes</td>\n",
       "      <td>70.78</td>\n",
       "      <td>Finance</td>\n",
       "      <td>61.90</td>\n",
       "      <td>0</td>\n",
       "    </tr>\n",
       "    <tr>\n",
       "      <th>3</th>\n",
       "      <td>10004</td>\n",
       "      <td>Female</td>\n",
       "      <td>72.00</td>\n",
       "      <td>State Board</td>\n",
       "      <td>60.00</td>\n",
       "      <td>State Board</td>\n",
       "      <td>Science</td>\n",
       "      <td>69.00</td>\n",
       "      <td>Commerce &amp; Mgmt</td>\n",
       "      <td>No</td>\n",
       "      <td>55.50</td>\n",
       "      <td>HR</td>\n",
       "      <td>58.40</td>\n",
       "      <td>0</td>\n",
       "    </tr>\n",
       "    <tr>\n",
       "      <th>4</th>\n",
       "      <td>10005</td>\n",
       "      <td>Female</td>\n",
       "      <td>60.13</td>\n",
       "      <td>Central Board</td>\n",
       "      <td>58.83</td>\n",
       "      <td>State Board</td>\n",
       "      <td>Commerce</td>\n",
       "      <td>54.43</td>\n",
       "      <td>Commerce &amp; Mgmt</td>\n",
       "      <td>No</td>\n",
       "      <td>52.93</td>\n",
       "      <td>HR</td>\n",
       "      <td>58.15</td>\n",
       "      <td>0</td>\n",
       "    </tr>\n",
       "    <tr>\n",
       "      <th>5</th>\n",
       "      <td>10006</td>\n",
       "      <td>Male</td>\n",
       "      <td>50.38</td>\n",
       "      <td>State Board</td>\n",
       "      <td>56.47</td>\n",
       "      <td>State Board</td>\n",
       "      <td>Science</td>\n",
       "      <td>61.00</td>\n",
       "      <td>Science &amp; Tech</td>\n",
       "      <td>No</td>\n",
       "      <td>60.00</td>\n",
       "      <td>HR</td>\n",
       "      <td>NaN</td>\n",
       "      <td>0</td>\n",
       "    </tr>\n",
       "    <tr>\n",
       "      <th>6</th>\n",
       "      <td>10007</td>\n",
       "      <td>Male</td>\n",
       "      <td>80.71</td>\n",
       "      <td>State Board</td>\n",
       "      <td>82.27</td>\n",
       "      <td>State Board</td>\n",
       "      <td>Commerce</td>\n",
       "      <td>77.50</td>\n",
       "      <td>Commerce &amp; Mgmt</td>\n",
       "      <td>No</td>\n",
       "      <td>91.06</td>\n",
       "      <td>Finance</td>\n",
       "      <td>74.63</td>\n",
       "      <td>1</td>\n",
       "    </tr>\n",
       "    <tr>\n",
       "      <th>7</th>\n",
       "      <td>10008</td>\n",
       "      <td>Male</td>\n",
       "      <td>68.96</td>\n",
       "      <td>Central Board</td>\n",
       "      <td>NaN</td>\n",
       "      <td>Central Board</td>\n",
       "      <td>Science</td>\n",
       "      <td>63.71</td>\n",
       "      <td>Other Degree</td>\n",
       "      <td>Yes</td>\n",
       "      <td>65.96</td>\n",
       "      <td>HR</td>\n",
       "      <td>727.60</td>\n",
       "      <td>0</td>\n",
       "    </tr>\n",
       "    <tr>\n",
       "      <th>8</th>\n",
       "      <td>10009</td>\n",
       "      <td>Male</td>\n",
       "      <td>43.57</td>\n",
       "      <td>State Board</td>\n",
       "      <td>54.86</td>\n",
       "      <td>State Board</td>\n",
       "      <td>Science</td>\n",
       "      <td>61.28</td>\n",
       "      <td>Science &amp; Tech</td>\n",
       "      <td>Yes</td>\n",
       "      <td>87.24</td>\n",
       "      <td>Finance</td>\n",
       "      <td>59.11</td>\n",
       "      <td>0</td>\n",
       "    </tr>\n",
       "    <tr>\n",
       "      <th>9</th>\n",
       "      <td>10010</td>\n",
       "      <td>Male</td>\n",
       "      <td>61.88</td>\n",
       "      <td>State Board</td>\n",
       "      <td>62.53</td>\n",
       "      <td>State Board</td>\n",
       "      <td>Commerce</td>\n",
       "      <td>63.77</td>\n",
       "      <td>Commerce &amp; Mgmt</td>\n",
       "      <td>No</td>\n",
       "      <td>66.88</td>\n",
       "      <td>Finance</td>\n",
       "      <td>56.95</td>\n",
       "      <td>0</td>\n",
       "    </tr>\n",
       "  </tbody>\n",
       "</table>\n",
       "</div>"
      ],
      "text/plain": [
       "      id  gender  ssc_pct      ssc_board  hsc_pct      hsc_board hsc_stream  \\\n",
       "0  10001  Female  69.31    Central Board  73.31    Central Board  Commerce    \n",
       "1  10002  Male    67.12    Central Board  85.11    State Board    Commerce    \n",
       "2  10003  Male    80.46    Central Board  57.43    Central Board  Science     \n",
       "3  10004  Female  72.00    State Board    60.00    State Board    Science     \n",
       "4  10005  Female  60.13    Central Board  58.83    State Board    Commerce    \n",
       "5  10006  Male    50.38    State Board    56.47    State Board    Science     \n",
       "6  10007  Male    80.71    State Board    82.27    State Board    Commerce    \n",
       "7  10008  Male    68.96    Central Board NaN       Central Board  Science     \n",
       "8  10009  Male    43.57    State Board    54.86    State Board    Science     \n",
       "9  10010  Male    61.88    State Board    62.53    State Board    Commerce    \n",
       "\n",
       "   degree_pct      degree_type work_exp  emptest_pct   stream  mba_pct  status  \n",
       "0  65.10       Commerce & Mgmt  No       70.92        Finance  56.70    0       \n",
       "1  73.63       Commerce & Mgmt  No       87.40        Finance  60.76    0       \n",
       "2  65.38       Science & Tech   Yes      70.78        Finance  61.90    0       \n",
       "3  69.00       Commerce & Mgmt  No       55.50        HR       58.40    0       \n",
       "4  54.43       Commerce & Mgmt  No       52.93        HR       58.15    0       \n",
       "5  61.00       Science & Tech   No       60.00        HR      NaN       0       \n",
       "6  77.50       Commerce & Mgmt  No       91.06        Finance  74.63    1       \n",
       "7  63.71       Other Degree     Yes      65.96        HR       727.60   0       \n",
       "8  61.28       Science & Tech   Yes      87.24        Finance  59.11    0       \n",
       "9  63.77       Commerce & Mgmt  No       66.88        Finance  56.95    0       "
      ]
     },
     "execution_count": 6,
     "metadata": {},
     "output_type": "execute_result"
    }
   ],
   "source": [
    "# Uploading training data \n",
    "train = data_converter.convert_my_table_to_df('Train')\n",
    "train.head(10)"
   ]
  },
  {
   "cell_type": "code",
   "execution_count": 7,
   "metadata": {
    "ExecuteTime": {
     "end_time": "2021-02-16T13:12:29.098630Z",
     "start_time": "2021-02-16T13:12:28.805060Z"
    }
   },
   "outputs": [
    {
     "name": "stdout",
     "output_type": "stream",
     "text": [
      "Loaded table Test as dataframe\n"
     ]
    },
    {
     "data": {
      "text/html": [
       "<div>\n",
       "<style scoped>\n",
       "    .dataframe tbody tr th:only-of-type {\n",
       "        vertical-align: middle;\n",
       "    }\n",
       "\n",
       "    .dataframe tbody tr th {\n",
       "        vertical-align: top;\n",
       "    }\n",
       "\n",
       "    .dataframe thead th {\n",
       "        text-align: right;\n",
       "    }\n",
       "</style>\n",
       "<table border=\"1\" class=\"dataframe\">\n",
       "  <thead>\n",
       "    <tr style=\"text-align: right;\">\n",
       "      <th></th>\n",
       "      <th>id</th>\n",
       "      <th>gender</th>\n",
       "      <th>ssc_pct</th>\n",
       "      <th>ssc_board</th>\n",
       "      <th>hsc_pct</th>\n",
       "      <th>hsc_board</th>\n",
       "      <th>hsc_stream</th>\n",
       "      <th>degree_pct</th>\n",
       "      <th>degree_type</th>\n",
       "      <th>work_exp</th>\n",
       "      <th>emptest_pct</th>\n",
       "      <th>stream</th>\n",
       "      <th>mba_pct</th>\n",
       "    </tr>\n",
       "  </thead>\n",
       "  <tbody>\n",
       "    <tr>\n",
       "      <th>0</th>\n",
       "      <td>20001</td>\n",
       "      <td>Female</td>\n",
       "      <td>65.16</td>\n",
       "      <td>Central Board</td>\n",
       "      <td>57.82</td>\n",
       "      <td>Central Board</td>\n",
       "      <td>Commerce</td>\n",
       "      <td>73.00</td>\n",
       "      <td>Commerce &amp; Mgmt</td>\n",
       "      <td>No</td>\n",
       "      <td>57.16</td>\n",
       "      <td>HR</td>\n",
       "      <td>59.88</td>\n",
       "    </tr>\n",
       "    <tr>\n",
       "      <th>1</th>\n",
       "      <td>20002</td>\n",
       "      <td>Male</td>\n",
       "      <td>60.47</td>\n",
       "      <td>State Board</td>\n",
       "      <td>49.34</td>\n",
       "      <td>State Board</td>\n",
       "      <td>Science</td>\n",
       "      <td>55.33</td>\n",
       "      <td>Science &amp; Tech</td>\n",
       "      <td>No</td>\n",
       "      <td>72.70</td>\n",
       "      <td>Finance</td>\n",
       "      <td>67.63</td>\n",
       "    </tr>\n",
       "    <tr>\n",
       "      <th>2</th>\n",
       "      <td>20003</td>\n",
       "      <td>Male</td>\n",
       "      <td>NaN</td>\n",
       "      <td>Central Board</td>\n",
       "      <td>55.47</td>\n",
       "      <td>Central Board</td>\n",
       "      <td>Commerce</td>\n",
       "      <td>50.46</td>\n",
       "      <td>Commerce &amp; Mgmt</td>\n",
       "      <td>No</td>\n",
       "      <td>67.00</td>\n",
       "      <td>HR</td>\n",
       "      <td>62.84</td>\n",
       "    </tr>\n",
       "    <tr>\n",
       "      <th>3</th>\n",
       "      <td>20004</td>\n",
       "      <td>Male</td>\n",
       "      <td>78.44</td>\n",
       "      <td>State Board</td>\n",
       "      <td>49.02</td>\n",
       "      <td>State Board</td>\n",
       "      <td>Science</td>\n",
       "      <td>63.66</td>\n",
       "      <td>Science &amp; Tech</td>\n",
       "      <td>Yes</td>\n",
       "      <td>64.00</td>\n",
       "      <td>Finance</td>\n",
       "      <td>72.82</td>\n",
       "    </tr>\n",
       "    <tr>\n",
       "      <th>4</th>\n",
       "      <td>20005</td>\n",
       "      <td>Male</td>\n",
       "      <td>80.66</td>\n",
       "      <td>Central Board</td>\n",
       "      <td>75.64</td>\n",
       "      <td>Central Board</td>\n",
       "      <td>Science</td>\n",
       "      <td>81.48</td>\n",
       "      <td>Science &amp; Tech</td>\n",
       "      <td>Yes</td>\n",
       "      <td>77.39</td>\n",
       "      <td>HR</td>\n",
       "      <td>77.62</td>\n",
       "    </tr>\n",
       "    <tr>\n",
       "      <th>5</th>\n",
       "      <td>20006</td>\n",
       "      <td>Female</td>\n",
       "      <td>85.12</td>\n",
       "      <td>State Board</td>\n",
       "      <td>92.93</td>\n",
       "      <td>State Board</td>\n",
       "      <td>Commerce</td>\n",
       "      <td>77.04</td>\n",
       "      <td>Commerce &amp; Mgmt</td>\n",
       "      <td>Yes</td>\n",
       "      <td>73.89</td>\n",
       "      <td>Finance</td>\n",
       "      <td>76.85</td>\n",
       "    </tr>\n",
       "    <tr>\n",
       "      <th>6</th>\n",
       "      <td>20007</td>\n",
       "      <td>Male</td>\n",
       "      <td>69.60</td>\n",
       "      <td>Central Board</td>\n",
       "      <td>68.40</td>\n",
       "      <td>Central Board</td>\n",
       "      <td>Commerce</td>\n",
       "      <td>78.30</td>\n",
       "      <td>Commerce &amp; Mgmt</td>\n",
       "      <td>NaN</td>\n",
       "      <td>60.00</td>\n",
       "      <td>Finance</td>\n",
       "      <td>NaN</td>\n",
       "    </tr>\n",
       "    <tr>\n",
       "      <th>7</th>\n",
       "      <td>20008</td>\n",
       "      <td>Male</td>\n",
       "      <td>70.28</td>\n",
       "      <td>State Board</td>\n",
       "      <td>59.45</td>\n",
       "      <td>State Board</td>\n",
       "      <td>Commerce</td>\n",
       "      <td>64.82</td>\n",
       "      <td>Commerce &amp; Mgmt</td>\n",
       "      <td>No</td>\n",
       "      <td>88.02</td>\n",
       "      <td>Finance</td>\n",
       "      <td>52.38</td>\n",
       "    </tr>\n",
       "    <tr>\n",
       "      <th>8</th>\n",
       "      <td>20009</td>\n",
       "      <td>Female</td>\n",
       "      <td>67.72</td>\n",
       "      <td>Central Board</td>\n",
       "      <td>73.28</td>\n",
       "      <td>Central Board</td>\n",
       "      <td>Commerce</td>\n",
       "      <td>63.85</td>\n",
       "      <td>Commerce &amp; Mgmt</td>\n",
       "      <td>No</td>\n",
       "      <td>52.30</td>\n",
       "      <td>Finance</td>\n",
       "      <td>64.96</td>\n",
       "    </tr>\n",
       "    <tr>\n",
       "      <th>9</th>\n",
       "      <td>20010</td>\n",
       "      <td>Female</td>\n",
       "      <td>84.25</td>\n",
       "      <td>State Board</td>\n",
       "      <td>52.61</td>\n",
       "      <td>State Board</td>\n",
       "      <td>Science</td>\n",
       "      <td>90.49</td>\n",
       "      <td>Science &amp; Tech</td>\n",
       "      <td>No</td>\n",
       "      <td>59.37</td>\n",
       "      <td>HR</td>\n",
       "      <td>69.82</td>\n",
       "    </tr>\n",
       "  </tbody>\n",
       "</table>\n",
       "</div>"
      ],
      "text/plain": [
       "      id  gender  ssc_pct      ssc_board  hsc_pct      hsc_board hsc_stream  \\\n",
       "0  20001  Female  65.16    Central Board  57.82    Central Board  Commerce    \n",
       "1  20002  Male    60.47    State Board    49.34    State Board    Science     \n",
       "2  20003  Male   NaN       Central Board  55.47    Central Board  Commerce    \n",
       "3  20004  Male    78.44    State Board    49.02    State Board    Science     \n",
       "4  20005  Male    80.66    Central Board  75.64    Central Board  Science     \n",
       "5  20006  Female  85.12    State Board    92.93    State Board    Commerce    \n",
       "6  20007  Male    69.60    Central Board  68.40    Central Board  Commerce    \n",
       "7  20008  Male    70.28    State Board    59.45    State Board    Commerce    \n",
       "8  20009  Female  67.72    Central Board  73.28    Central Board  Commerce    \n",
       "9  20010  Female  84.25    State Board    52.61    State Board    Science     \n",
       "\n",
       "   degree_pct      degree_type work_exp  emptest_pct   stream  mba_pct  \n",
       "0  73.00       Commerce & Mgmt  No       57.16        HR       59.88    \n",
       "1  55.33       Science & Tech   No       72.70        Finance  67.63    \n",
       "2  50.46       Commerce & Mgmt  No       67.00        HR       62.84    \n",
       "3  63.66       Science & Tech   Yes      64.00        Finance  72.82    \n",
       "4  81.48       Science & Tech   Yes      77.39        HR       77.62    \n",
       "5  77.04       Commerce & Mgmt  Yes      73.89        Finance  76.85    \n",
       "6  78.30       Commerce & Mgmt  NaN      60.00        Finance NaN       \n",
       "7  64.82       Commerce & Mgmt  No       88.02        Finance  52.38    \n",
       "8  63.85       Commerce & Mgmt  No       52.30        Finance  64.96    \n",
       "9  90.49       Science & Tech   No       59.37        HR       69.82    "
      ]
     },
     "execution_count": 7,
     "metadata": {},
     "output_type": "execute_result"
    }
   ],
   "source": [
    "# Uploading testing data\n",
    "test_df = data_converter.convert_my_table_to_df('Test')\n",
    "test_df.head(10)"
   ]
  },
  {
   "cell_type": "code",
   "execution_count": 8,
   "metadata": {
    "ExecuteTime": {
     "end_time": "2021-02-16T13:12:29.202986Z",
     "start_time": "2021-02-16T13:12:29.100666Z"
    }
   },
   "outputs": [
    {
     "data": {
      "text/plain": [
       "id             0  \n",
       "gender         0  \n",
       "ssc_pct        110\n",
       "ssc_board      144\n",
       "hsc_pct        244\n",
       "hsc_board      121\n",
       "hsc_stream     0  \n",
       "degree_pct     172\n",
       "degree_type    37 \n",
       "work_exp       313\n",
       "emptest_pct    182\n",
       "stream         50 \n",
       "mba_pct        268\n",
       "status         0  \n",
       "dtype: int64"
      ]
     },
     "execution_count": 8,
     "metadata": {},
     "output_type": "execute_result"
    }
   ],
   "source": [
    "# Checking for null values\n",
    "train.isna().sum()"
   ]
  },
  {
   "cell_type": "code",
   "execution_count": null,
   "metadata": {
    "ExecuteTime": {
     "end_time": "2021-02-16T08:44:06.407280Z",
     "start_time": "2021-02-16T08:44:06.306670Z"
    },
    "hide_input": true
   },
   "outputs": [],
   "source": []
  },
  {
   "cell_type": "code",
   "execution_count": 9,
   "metadata": {
    "ExecuteTime": {
     "end_time": "2021-02-16T13:12:29.299379Z",
     "start_time": "2021-02-16T13:12:29.204818Z"
    }
   },
   "outputs": [
    {
     "data": {
      "text/plain": [
       "gender         0  \n",
       "ssc_pct        110\n",
       "hsc_pct        244\n",
       "degree_pct     172\n",
       "work_exp       313\n",
       "emptest_pct    182\n",
       "stream         50 \n",
       "mba_pct        268\n",
       "degree_type    37 \n",
       "dtype: int64"
      ]
     },
     "execution_count": 9,
     "metadata": {},
     "output_type": "execute_result"
    }
   ],
   "source": [
    "# Extracting the columns\n",
    "features = ['gender', 'ssc_pct', 'hsc_pct', 'degree_pct', 'work_exp', 'emptest_pct', 'stream', 'mba_pct', 'degree_type']\n",
    "# Dependent Variable\n",
    "y = train.iloc[:, -1]\n",
    "# Independent Variable\n",
    "X = train[features]\n",
    "X.isna().sum()"
   ]
  },
  {
   "cell_type": "code",
   "execution_count": 10,
   "metadata": {
    "ExecuteTime": {
     "end_time": "2021-02-16T13:12:29.305567Z",
     "start_time": "2021-02-16T13:12:29.301433Z"
    }
   },
   "outputs": [],
   "source": [
    "# Extracting features from test data\n",
    "X_test = test_df[features] "
   ]
  },
  {
   "cell_type": "code",
   "execution_count": 11,
   "metadata": {
    "ExecuteTime": {
     "end_time": "2021-02-16T13:12:29.504706Z",
     "start_time": "2021-02-16T13:12:29.307786Z"
    },
    "scrolled": true
   },
   "outputs": [
    {
     "data": {
      "text/plain": [
       "ssc_pct                        110\n",
       "hsc_pct                        244\n",
       "degree_pct                     172\n",
       "emptest_pct                    182\n",
       "mba_pct                        268\n",
       "gender_Female                  0  \n",
       "gender_Male                    0  \n",
       "work_exp_No                    0  \n",
       "work_exp_Yes                   0  \n",
       "stream_Finance                 0  \n",
       "stream_HR                      0  \n",
       "degree_type_Commerce & Mgmt    0  \n",
       "degree_type_Other Degree       0  \n",
       "degree_type_Science & Tech     0  \n",
       "dtype: int64"
      ]
     },
     "execution_count": 11,
     "metadata": {},
     "output_type": "execute_result"
    }
   ],
   "source": [
    "# Converting values into dummy variables\n",
    "X = pd.get_dummies(X)\n",
    "X.isna().sum()"
   ]
  },
  {
   "cell_type": "code",
   "execution_count": 12,
   "metadata": {
    "ExecuteTime": {
     "end_time": "2021-02-16T13:12:29.606112Z",
     "start_time": "2021-02-16T13:12:29.506242Z"
    }
   },
   "outputs": [
    {
     "data": {
      "text/plain": [
       "ssc_pct                        53 \n",
       "hsc_pct                        107\n",
       "degree_pct                     86 \n",
       "emptest_pct                    73 \n",
       "mba_pct                        116\n",
       "gender_Female                  0  \n",
       "gender_Male                    0  \n",
       "work_exp_No                    0  \n",
       "work_exp_Yes                   0  \n",
       "stream_Finance                 0  \n",
       "stream_HR                      0  \n",
       "degree_type_Commerce & Mgmt    0  \n",
       "degree_type_Other Degree       0  \n",
       "degree_type_Science & Tech     0  \n",
       "dtype: int64"
      ]
     },
     "execution_count": 12,
     "metadata": {},
     "output_type": "execute_result"
    }
   ],
   "source": [
    "X_test = pd.get_dummies(X_test)\n",
    "X_test.isna().sum()"
   ]
  },
  {
   "cell_type": "code",
   "execution_count": 13,
   "metadata": {
    "ExecuteTime": {
     "end_time": "2021-02-16T13:12:33.105436Z",
     "start_time": "2021-02-16T13:12:29.607741Z"
    }
   },
   "outputs": [
    {
     "data": {
      "text/plain": [
       "ssc_pct                        0\n",
       "hsc_pct                        0\n",
       "degree_pct                     0\n",
       "emptest_pct                    0\n",
       "mba_pct                        0\n",
       "gender_Female                  0\n",
       "gender_Male                    0\n",
       "work_exp_No                    0\n",
       "work_exp_Yes                   0\n",
       "stream_Finance                 0\n",
       "stream_HR                      0\n",
       "degree_type_Commerce & Mgmt    0\n",
       "degree_type_Other Degree       0\n",
       "degree_type_Science & Tech     0\n",
       "dtype: int64"
      ]
     },
     "execution_count": 13,
     "metadata": {},
     "output_type": "execute_result"
    }
   ],
   "source": [
    "# Missing values\n",
    "from sklearn.impute import SimpleImputer\n",
    "imputer = SimpleImputer(missing_values=np.nan).fit(X[['ssc_pct', 'hsc_pct','degree_pct','emptest_pct', 'mba_pct']])\n",
    "X[['ssc_pct', 'hsc_pct','degree_pct','emptest_pct', 'mba_pct']] = imputer.transform(X[['ssc_pct', 'hsc_pct','degree_pct','emptest_pct', 'mba_pct']])\n",
    "X.isna().sum()"
   ]
  },
  {
   "cell_type": "code",
   "execution_count": 14,
   "metadata": {
    "ExecuteTime": {
     "end_time": "2021-02-16T13:12:33.200395Z",
     "start_time": "2021-02-16T13:12:33.107256Z"
    }
   },
   "outputs": [],
   "source": [
    "# Missing values\n",
    "X_test[['ssc_pct', 'hsc_pct','degree_pct','emptest_pct', 'mba_pct']] = imputer.transform(X_test[['ssc_pct', 'hsc_pct','degree_pct','emptest_pct', 'mba_pct']])"
   ]
  },
  {
   "cell_type": "code",
   "execution_count": 15,
   "metadata": {
    "ExecuteTime": {
     "end_time": "2021-02-16T13:12:33.398081Z",
     "start_time": "2021-02-16T13:12:33.202037Z"
    }
   },
   "outputs": [
    {
     "data": {
      "text/html": [
       "<div>\n",
       "<style scoped>\n",
       "    .dataframe tbody tr th:only-of-type {\n",
       "        vertical-align: middle;\n",
       "    }\n",
       "\n",
       "    .dataframe tbody tr th {\n",
       "        vertical-align: top;\n",
       "    }\n",
       "\n",
       "    .dataframe thead th {\n",
       "        text-align: right;\n",
       "    }\n",
       "</style>\n",
       "<table border=\"1\" class=\"dataframe\">\n",
       "  <thead>\n",
       "    <tr style=\"text-align: right;\">\n",
       "      <th></th>\n",
       "      <th>ssc_pct</th>\n",
       "      <th>hsc_pct</th>\n",
       "      <th>degree_pct</th>\n",
       "      <th>emptest_pct</th>\n",
       "      <th>mba_pct</th>\n",
       "      <th>gender_Female</th>\n",
       "      <th>gender_Male</th>\n",
       "      <th>work_exp_No</th>\n",
       "      <th>work_exp_Yes</th>\n",
       "      <th>stream_Finance</th>\n",
       "      <th>stream_HR</th>\n",
       "      <th>degree_type_Commerce &amp; Mgmt</th>\n",
       "      <th>degree_type_Other Degree</th>\n",
       "      <th>degree_type_Science &amp; Tech</th>\n",
       "    </tr>\n",
       "  </thead>\n",
       "  <tbody>\n",
       "    <tr>\n",
       "      <th>0</th>\n",
       "      <td>-0.026425</td>\n",
       "      <td>0.118116</td>\n",
       "      <td>-0.073827</td>\n",
       "      <td>-0.083816</td>\n",
       "      <td>-0.184883</td>\n",
       "      <td>1</td>\n",
       "      <td>0</td>\n",
       "      <td>1</td>\n",
       "      <td>0</td>\n",
       "      <td>1</td>\n",
       "      <td>0</td>\n",
       "      <td>1</td>\n",
       "      <td>0</td>\n",
       "      <td>0</td>\n",
       "    </tr>\n",
       "    <tr>\n",
       "      <th>1</th>\n",
       "      <td>-0.066315</td>\n",
       "      <td>0.401460</td>\n",
       "      <td>0.110610</td>\n",
       "      <td>0.204505</td>\n",
       "      <td>-0.098983</td>\n",
       "      <td>0</td>\n",
       "      <td>1</td>\n",
       "      <td>1</td>\n",
       "      <td>0</td>\n",
       "      <td>1</td>\n",
       "      <td>0</td>\n",
       "      <td>1</td>\n",
       "      <td>0</td>\n",
       "      <td>0</td>\n",
       "    </tr>\n",
       "    <tr>\n",
       "      <th>2</th>\n",
       "      <td>0.176664</td>\n",
       "      <td>-0.263197</td>\n",
       "      <td>-0.067772</td>\n",
       "      <td>-0.086265</td>\n",
       "      <td>-0.074863</td>\n",
       "      <td>0</td>\n",
       "      <td>1</td>\n",
       "      <td>0</td>\n",
       "      <td>1</td>\n",
       "      <td>1</td>\n",
       "      <td>0</td>\n",
       "      <td>0</td>\n",
       "      <td>0</td>\n",
       "      <td>1</td>\n",
       "    </tr>\n",
       "    <tr>\n",
       "      <th>3</th>\n",
       "      <td>0.022571</td>\n",
       "      <td>-0.201486</td>\n",
       "      <td>0.010500</td>\n",
       "      <td>-0.353592</td>\n",
       "      <td>-0.148915</td>\n",
       "      <td>1</td>\n",
       "      <td>0</td>\n",
       "      <td>1</td>\n",
       "      <td>0</td>\n",
       "      <td>0</td>\n",
       "      <td>1</td>\n",
       "      <td>1</td>\n",
       "      <td>0</td>\n",
       "      <td>0</td>\n",
       "    </tr>\n",
       "    <tr>\n",
       "      <th>4</th>\n",
       "      <td>-0.193633</td>\n",
       "      <td>-0.229580</td>\n",
       "      <td>-0.304534</td>\n",
       "      <td>-0.398555</td>\n",
       "      <td>-0.154204</td>\n",
       "      <td>1</td>\n",
       "      <td>0</td>\n",
       "      <td>1</td>\n",
       "      <td>0</td>\n",
       "      <td>0</td>\n",
       "      <td>1</td>\n",
       "      <td>1</td>\n",
       "      <td>0</td>\n",
       "      <td>0</td>\n",
       "    </tr>\n",
       "  </tbody>\n",
       "</table>\n",
       "</div>"
      ],
      "text/plain": [
       "    ssc_pct   hsc_pct  degree_pct  emptest_pct   mba_pct  gender_Female  \\\n",
       "0 -0.026425  0.118116 -0.073827   -0.083816    -0.184883  1               \n",
       "1 -0.066315  0.401460  0.110610    0.204505    -0.098983  0               \n",
       "2  0.176664 -0.263197 -0.067772   -0.086265    -0.074863  0               \n",
       "3  0.022571 -0.201486  0.010500   -0.353592    -0.148915  1               \n",
       "4 -0.193633 -0.229580 -0.304534   -0.398555    -0.154204  1               \n",
       "\n",
       "   gender_Male  work_exp_No  work_exp_Yes  stream_Finance  stream_HR  \\\n",
       "0  0            1            0             1               0           \n",
       "1  1            1            0             1               0           \n",
       "2  1            0            1             1               0           \n",
       "3  0            1            0             0               1           \n",
       "4  0            1            0             0               1           \n",
       "\n",
       "   degree_type_Commerce & Mgmt  degree_type_Other Degree  \\\n",
       "0  1                            0                          \n",
       "1  1                            0                          \n",
       "2  0                            0                          \n",
       "3  1                            0                          \n",
       "4  1                            0                          \n",
       "\n",
       "   degree_type_Science & Tech  \n",
       "0  0                           \n",
       "1  0                           \n",
       "2  1                           \n",
       "3  0                           \n",
       "4  0                           "
      ]
     },
     "execution_count": 15,
     "metadata": {},
     "output_type": "execute_result"
    }
   ],
   "source": [
    "# Using feature scaling to scale the values into a range \n",
    "from sklearn.preprocessing import StandardScaler\n",
    "scaler = StandardScaler().fit(X[['ssc_pct', 'hsc_pct','degree_pct','emptest_pct', 'mba_pct']])\n",
    "X[['ssc_pct', 'hsc_pct','degree_pct','emptest_pct', 'mba_pct']] = scaler.transform(X[['ssc_pct', 'hsc_pct','degree_pct','emptest_pct', 'mba_pct']])\n",
    "X.head(5)"
   ]
  },
  {
   "cell_type": "code",
   "execution_count": 16,
   "metadata": {
    "ExecuteTime": {
     "end_time": "2021-02-16T13:12:33.410580Z",
     "start_time": "2021-02-16T13:12:33.400466Z"
    }
   },
   "outputs": [],
   "source": [
    "X_test[['ssc_pct', 'hsc_pct','degree_pct','emptest_pct', 'mba_pct']] = scaler.transform(X_test[['ssc_pct', 'hsc_pct','degree_pct','emptest_pct', 'mba_pct']])"
   ]
  },
  {
   "cell_type": "code",
   "execution_count": 17,
   "metadata": {
    "ExecuteTime": {
     "end_time": "2021-02-16T13:12:33.503678Z",
     "start_time": "2021-02-16T13:12:33.496151Z"
    }
   },
   "outputs": [],
   "source": [
    "# Spliting dataset into training and testing sets\n",
    "from sklearn.model_selection import train_test_split\n",
    "X_train, X_test_X, y_train, y_test = train_test_split(X, y, test_size = 0.1, random_state = 0)"
   ]
  },
  {
   "cell_type": "code",
   "execution_count": 18,
   "metadata": {
    "ExecuteTime": {
     "end_time": "2021-02-16T13:12:33.796985Z",
     "start_time": "2021-02-16T13:12:33.507439Z"
    }
   },
   "outputs": [],
   "source": [
    "# Importing algorithms from sklearn\n",
    "from sklearn.tree import DecisionTreeClassifier, ExtraTreeClassifier\n",
    "from sklearn.ensemble import ExtraTreesClassifier, RandomForestClassifier"
   ]
  },
  {
   "cell_type": "code",
   "execution_count": 19,
   "metadata": {
    "ExecuteTime": {
     "end_time": "2021-02-16T13:12:36.016118Z",
     "start_time": "2021-02-16T13:12:33.799382Z"
    }
   },
   "outputs": [
    {
     "data": {
      "text/plain": [
       "ExtraTreesClassifier(random_state=0)"
      ]
     },
     "execution_count": 19,
     "metadata": {},
     "output_type": "execute_result"
    }
   ],
   "source": [
    "# Fiting train and test data into the algorithm\n",
    "tree = ExtraTreesClassifier(n_estimators = 100 ,random_state = 0)\n",
    "tree.fit(X_train, y_train)"
   ]
  },
  {
   "cell_type": "code",
   "execution_count": 20,
   "metadata": {
    "ExecuteTime": {
     "end_time": "2021-02-16T13:12:36.305094Z",
     "start_time": "2021-02-16T13:12:36.098673Z"
    }
   },
   "outputs": [],
   "source": [
    "# Predicting the result on test dataset\n",
    "pred = tree.predict(X_test_X)"
   ]
  },
  {
   "cell_type": "code",
   "execution_count": 21,
   "metadata": {
    "ExecuteTime": {
     "end_time": "2021-02-16T13:12:36.310288Z",
     "start_time": "2021-02-16T13:12:36.307140Z"
    }
   },
   "outputs": [],
   "source": [
    "# Calulating the score of the predicted values\n",
    "from sklearn.metrics import f1_score, accuracy_score"
   ]
  },
  {
   "cell_type": "code",
   "execution_count": 22,
   "metadata": {
    "ExecuteTime": {
     "end_time": "2021-02-16T13:12:36.404130Z",
     "start_time": "2021-02-16T13:12:36.397852Z"
    }
   },
   "outputs": [
    {
     "name": "stdout",
     "output_type": "stream",
     "text": [
      "F1 score is 0.7536231884057972\n",
      "accuracy score is  0.8785714285714286\n"
     ]
    }
   ],
   "source": [
    "print('F1 score is', f1_score(pred, y_test))\n",
    "print('accuracy score is ', accuracy_score(pred, y_test))"
   ]
  },
  {
   "cell_type": "code",
   "execution_count": 23,
   "metadata": {
    "ExecuteTime": {
     "end_time": "2021-02-16T13:12:36.897021Z",
     "start_time": "2021-02-16T13:12:36.405888Z"
    }
   },
   "outputs": [],
   "source": [
    "# Predicting the result on test dataset\n",
    "test_pred = tree.predict(X_test)"
   ]
  },
  {
   "cell_type": "code",
   "execution_count": 24,
   "metadata": {
    "ExecuteTime": {
     "end_time": "2021-02-16T13:12:36.902545Z",
     "start_time": "2021-02-16T13:12:36.898932Z"
    },
    "hide_input": true
   },
   "outputs": [
    {
     "data": {
      "text/plain": [
       "(3000,)"
      ]
     },
     "execution_count": 24,
     "metadata": {},
     "output_type": "execute_result"
    }
   ],
   "source": []
  },
  {
   "cell_type": "code",
   "execution_count": 25,
   "metadata": {
    "ExecuteTime": {
     "end_time": "2021-02-16T13:12:36.908077Z",
     "start_time": "2021-02-16T13:12:36.904354Z"
    },
    "hide_input": true
   },
   "outputs": [
    {
     "data": {
      "text/plain": [
       "(3000,)"
      ]
     },
     "execution_count": 25,
     "metadata": {},
     "output_type": "execute_result"
    }
   ],
   "source": []
  },
  {
   "cell_type": "code",
   "execution_count": 26,
   "metadata": {
    "ExecuteTime": {
     "end_time": "2021-02-16T13:12:36.913159Z",
     "start_time": "2021-02-16T13:12:36.909837Z"
    }
   },
   "outputs": [],
   "source": [
    "# Creating new column to save predicted values\n",
    "test_df['predictecd_prob'] = test_pred"
   ]
  },
  {
   "cell_type": "code",
   "execution_count": 27,
   "metadata": {
    "ExecuteTime": {
     "end_time": "2021-02-16T13:12:37.606594Z",
     "start_time": "2021-02-16T13:12:36.997762Z"
    }
   },
   "outputs": [
    {
     "data": {
      "text/plain": [
       "'Successfully added dataframe as a new table. Move to point & click to view the file.'"
      ]
     },
     "execution_count": 27,
     "metadata": {},
     "output_type": "execute_result"
    }
   ],
   "source": [
    "# Saving predicted values into the dataset\n",
    "data_converter.convert_df_to_my_table(test_df)"
   ]
  },
  {
   "cell_type": "code",
   "execution_count": null,
   "metadata": {},
   "outputs": [],
   "source": []
  }
 ],
 "metadata": {
  "ath_info": {
   "auth": "",
   "baseApiUrl": "https://leapsapi.analyttica.com",
   "baseDataUrl": "https://leapsdata.analyttica.com",
   "consoleStepUrl": "https://leapsapi.analyttica.com/console/jhub/steps",
   "createStepUrl": {
    "ContentType": "application/vnd.Analyttica.TreasureHunt.UserStep+json",
    "href": "/step/users/157811/solveDetail/104531/steps",
    "method": "POST"
   },
   "dataObjectPrefix": "dataobject_",
   "deleteSolveNoteUrl": {
    "ContentType": "application/json",
    "href": "/step/users/157811/solveDetail/104531/deleteNotes",
    "method": "POST"
   },
   "deleteStepNoteUrl": {
    "ContentType": "application/json",
    "href": "/step/users/157811/solveDetail/104531/step/stepId/{stepId}/deleteNotes",
    "method": "POST"
   },
   "discardUrl": {
    "ContentType": "application/json",
    "href": "/step/users/157811/solveDetail/104531/discardDraft",
    "method": "POST"
   },
   "funcDetailsByNameUrl": {
    "ContentType": "application/json",
    "href": "/functions/name/{functionName}/functionDetails",
    "method": "GET"
   },
   "outputRowLimit": "200",
   "preAuth": "{\"id\":\"363ffd87-327c-4214-8397-963a9c27bf36\",\"mappingId\":157811,\"mapping_id\":157811,\"name\":\"Rahul Kadam\",\"email\":\"kadamrahulj0909@gmail.com\",\"profileUrl\":null,\"password\":\"*****\",\"enabled\":true,\"userType\":\"individual\",\"tenant\":{\"id\":\"da49652c-ba7d-4531-b610-a50cf856d841\",\"name\":\"analyttica\"},\"userTenantId\":\"2bd64c45-34b2-4ab6-9a3a-0c94851d125e\",\"userTenantStatus\":null,\"currency\":\"INR\",\"createdOn\":\"2021-02-15T03:25:39.000+0000\",\"lastModifiedOn\":\"2021-02-15T03:25:39.000+0000\",\"roles\":[{\"id\":21,\"name\":\"B2C_BASIC_USER\",\"users\":null,\"privileges\":null}],\"privileges\":[{\"name\":\"MODIFY_DASHBOARD\"},{\"name\":\"ADD_COMMENT\"},{\"name\":\"VIEW_COURSE_SCORE\"},{\"name\":\"ENROLL_COURSE\"},{\"name\":\"ADD_COLLABORATOR\"},{\"name\":\"B2C_DEFAULT_PLAN_EMAIL\"},{\"name\":\"UPLOAD_DATA\"},{\"name\":\"CREATE_CASE\"},{\"name\":\"ACCESS_CONSOLE\"},{\"name\":\"ADD_NOTE\"}],\"planVariantId\":null,\"subscriptionExpiryDate\":null}",
   "saveNotesUrl": "https://leapsapi.analyttica.com/console/jhub/save-notes",
   "saveSolveNoteUrl": {
    "ContentType": "application/json",
    "href": "/step/users/157811/solveDetail/104531/saveNotes",
    "method": "POST"
   },
   "saveStepNoteUrl": {
    "ContentType": "application/json",
    "href": "/step/users/157811/solveDetail/104531/step/saveNotes",
    "method": "POST"
   },
   "solveId": 104531,
   "stagingAreaPath": "/output/da49652c-ba7d-4531-b610-a50cf856d841/solve_104531/user_157811/data",
   "tenantId": "da49652c-ba7d-4531-b610-a50cf856d841",
   "token": "1e5fdf78f2bc49e281a4b233020c7012",
   "uiDataRowLimit": "200",
   "urls": {
    "addDatasetsUrl": {
     "ContentType": "application/vnd.Analyttica.TreasureHunt.PathDTO+json",
     "href": "/step/users/157811/solveDetail/104531/addDatasets",
     "method": "POST"
    },
    "aliasUrl": {
     "ContentType": "application/json",
     "href": "/step/users/157811/solveDetail/104531/table/getLatest",
     "method": "GET"
    },
    "allAliasUrl": {
     "ContentType": "application/json",
     "href": "/step/users/157811/solveDetail/104531/table/getAll",
     "method": "GET"
    },
    "createStepUrl": {
     "ContentType": "application/vnd.Analyttica.TreasureHunt.UserStep+json",
     "href": "/step/users/157811/solveDetail/104531/steps",
     "method": "POST"
    },
    "dataObjectDetails": {
     "ContentType": "application/json",
     "href": "/step/users/157811/dataObject/getDataObjectAll",
     "method": "GET"
    },
    "dataObjectNameValidationUrl": {
     "ContentType": "application/json",
     "href": "/step/users/157811/dataObject/validate/{dataObjectName}",
     "method": "GET"
    },
    "deleteDataObject": {
     "ContentType": "application/json",
     "href": "/file/deleteDataObject",
     "method": "PUT"
    },
    "detailsUrl": {
     "ContentType": "application/json",
     "href": "/functions/{functionId}/functionDetails",
     "method": "GET"
    },
    "searchUrl": {
     "ContentType": "application/json",
     "href": "/functions/suggestions?query",
     "method": "GET"
    }
   },
   "userId": 157811
  },
  "kernelspec": {
   "display_name": "Python 3",
   "language": "python",
   "name": "python3"
  },
  "language_info": {
   "codemirror_mode": {
    "name": "ipython",
    "version": 3
   },
   "file_extension": ".py",
   "mimetype": "text/x-python",
   "name": "python",
   "nbconvert_exporter": "python",
   "pygments_lexer": "ipython3",
   "version": "3.6.6"
  },
  "toc": {
   "base_numbering": 1,
   "nav_menu": {},
   "number_sections": true,
   "sideBar": true,
   "skip_h1_title": false,
   "title_cell": "Table of Contents",
   "title_sidebar": "Contents",
   "toc_cell": false,
   "toc_position": {},
   "toc_section_display": true,
   "toc_window_display": false
  },
  "widgets": {
   "application/vnd.jupyter.widget-state+json": {
    "state": {},
    "version_major": 2,
    "version_minor": 0
   }
  }
 },
 "nbformat": 4,
 "nbformat_minor": 2
}
