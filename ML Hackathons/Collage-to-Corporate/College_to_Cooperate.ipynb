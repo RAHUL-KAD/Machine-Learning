{
 "cells": [
  {
   "cell_type": "code",
   "execution_count": null,
   "metadata": {
    "ExecuteTime": {
     "start_time": "2021-02-23T12:02:26.545Z"
    },
    "editable": false,
    "hide_input": true,
    "init_cell": true
   },
   "outputs": [],
   "source": [
    "\n",
    "import json\n",
    "import time\n",
    "import pprint\n",
    "import warnings\n",
    "import rpy2\n",
    "from IPython.core.interactiveshell import InteractiveShell\n",
    "InteractiveShell.ast_node_interactivity = \"all\"\n",
    "from nb_processors.preprocessor import *\n",
    "pp = pprint.PrettyPrinter(indent=2)\n",
    "warnings.filterwarnings('ignore')\n",
    "%reload_ext rpy2.ipython\n",
    "from ath_magics import ath_sql\n",
    "from ath_magics import step\n",
    "from ath_magics import my_step\n",
    "from ath_magics import help\n",
    "from ath_magics import table\n",
    "from ath_magics import step_help\n",
    "from ath_magics import udf_step\n",
    "from ath_magics import ath_data\n",
    "from ath_utils.utils import load_udf\n",
    "from ath_utils.my_table import MyTable\n",
    "from ath_interface.python_udf import UDF\n",
    "from ath_utils.r_environment_setup import initialize_notebook_r_environment, update_notebook_state\n",
    "%reload_ext ath_magics.ath_sql\n",
    "%reload_ext ath_magics.step\n",
    "%reload_ext ath_magics.my_step\n",
    "%reload_ext ath_magics.help\n",
    "%reload_ext ath_magics.table\n",
    "%reload_ext ath_magics.step_help\n",
    "%reload_ext ath_magics.udf_step\n",
    "%reload_ext ath_magics.ath_data\n",
    "rpy2.robjects.pandas2ri.activate()\n",
    "%R source('/home/jovyan/data/data/functions/ath_rfunctions/ath/R/load_udf.R');\n",
    "import os\n",
    "os.environ[\"LOGGER_CONFIG\"] = \"/home/jovyan/logger.yaml\"\n"
   ]
  },
  {
   "cell_type": "code",
   "execution_count": null,
   "metadata": {
    "ExecuteTime": {
     "start_time": "2021-02-23T12:02:26.562Z"
    },
    "editable": false,
    "hide_input": true,
    "init_cell": true
   },
   "outputs": [],
   "source": [
    "\n",
    "props = {\n",
    "    \"datadirpath\":\"/home/jovyan/data/data/\",\n",
    "    \"outputFolderName\":\"data/output/\",\n",
    "    \"logFilePath\":\"None\",\n",
    "    \"functionsDefaultTimeout\":1800,\n",
    "    \"parallelCount\":4,\n",
    "    \"rFilesDirectory\":\"/home/jovyan/data/data/functions/ath_rfunctions/ath/R/\",\n",
    "    \"dataObjectPrefix\":\"dataobject_\",\n",
    "    \"tenantId\":\"da49652c-ba7d-4531-b610-a50cf856d841\",\n",
    "    \"userId\":\"157916\",\n",
    "    \"preAuth\":'{\"id\":\"ed22e586-48bf-4479-a324-af5004b9d2fc\",\"mappingId\":157916,\"mapping_id\":157916,\"name\":\"Prasant kumar\",\"email\":\"prasantdixit987@gmail.com\",\"profileUrl\":null,\"password\":\"*****\",\"enabled\":true,\"userType\":\"individual\",\"tenant\":{\"id\":\"da49652c-ba7d-4531-b610-a50cf856d841\",\"name\":\"analyttica\"},\"userTenantId\":\"68051f93-f339-492b-ae90-2ac28c6db4d2\",\"userTenantStatus\":null,\"currency\":\"INR\",\"createdOn\":\"2021-02-15T12:59:15.000+0000\",\"lastModifiedOn\":\"2021-02-15T12:59:15.000+0000\",\"roles\":[{\"id\":21,\"name\":\"B2C_BASIC_USER\",\"users\":null,\"privileges\":null}],\"privileges\":[{\"name\":\"CREATE_CASE\"},{\"name\":\"ENROLL_COURSE\"},{\"name\":\"ADD_COLLABORATOR\"},{\"name\":\"B2C_DEFAULT_PLAN_EMAIL\"},{\"name\":\"ACCESS_CONSOLE\"},{\"name\":\"ADD_NOTE\"},{\"name\":\"UPLOAD_DATA\"},{\"name\":\"ADD_COMMENT\"},{\"name\":\"MODIFY_DASHBOARD\"},{\"name\":\"VIEW_COURSE_SCORE\"}],\"planVariantId\":null,\"subscriptionExpiryDate\":null}',\n",
    "    \"baseApiUrl\":\"https://leapsapi.analyttica.com\",\n",
    "    \"stagingAreaPath\":\"/output/da49652c-ba7d-4531-b610-a50cf856d841/solve_104531/user_157916/data\",\n",
    "    \"urls\":{'addDatasetsUrl': {'method': 'POST', 'ContentType': 'application/vnd.Analyttica.TreasureHunt.PathDTO+json', 'href': '/step/users/157916/solveDetail/104531/addDatasets'}, 'aliasUrl': {'method': 'GET', 'ContentType': 'application/json', 'href': '/step/users/157916/solveDetail/104531/table/getLatest'}, 'detailsUrl': {'method': 'GET', 'ContentType': 'application/json', 'href': '/functions/{functionId}/functionDetails'}, 'deleteDataObject': {'method': 'PUT', 'ContentType': 'application/json', 'href': '/file/deleteDataObject'}, 'allAliasUrl': {'method': 'GET', 'ContentType': 'application/json', 'href': '/step/users/157916/solveDetail/104531/table/getAll'}, 'searchUrl': {'method': 'GET', 'ContentType': 'application/json', 'href': '/functions/suggestions?query'}, 'dataObjectNameValidationUrl': {'method': 'GET', 'ContentType': 'application/json', 'href': '/step/users/157916/dataObject/validate/{dataObjectName}'}, 'dataObjectDetails': {'method': 'GET', 'ContentType': 'application/json', 'href': '/step/users/157916/dataObject/getDataObjectAll'}, 'createStepUrl': {'method': 'POST', 'ContentType': 'application/vnd.Analyttica.TreasureHunt.UserStep+json', 'href': '/step/users/157916/solveDetail/104531/steps'}},\n",
    "    \"funcDetailsByNameUrl\":{'method': 'GET', 'ContentType': 'application/json', 'href': '/functions/name/{functionName}/functionDetails'},\n",
    "    \"udfCodeRootDir\":\"/mnt/rdata/data/udf\",\n",
    "    \"udfCodeRootDirInNotebook\":\"/home/jovyan/data/data/udf\",\n",
    "    \"baseDataUrl\":\"https://leapsdata.analyttica.com\",\n",
    "    \"uiDataRowLimit\":200,\n",
    "    \"lastStepId\":\"None\",\n",
    "}\n",
    "execStartTime = int(round(time.time() * 1000))\n",
    "outputFolderNameProp=\"\"\n",
    "pythonFilesDir=\"\"\n",
    "queuePublisher=\"\"\n",
    "local_store=None\n",
    "if os.environ.get('DATADIRPATH'):\n",
    "    props['datadirpath'] = os.environ.get('DATADIRPATH')\n",
    "if \"CONSOLE\" == \"SOLUTION\" or \"CONSOLE\" == \"CONSOLE\":\n",
    "    local_store=dict()\n",
    "    if \"CONSOLE\" == \"CONSOLE\":\n",
    "        initialize_notebook_r_environment(**props)\n",
    "        data_converter = MyTable(**props)\n",
    "        get_ipython().system = lambda *args: print('! is disabled!')\n",
    "    %autosave 20\n"
   ]
  },
  {
   "cell_type": "markdown",
   "metadata": {},
   "source": [
    "**Importing Data**"
   ]
  },
  {
   "cell_type": "code",
   "execution_count": 1,
   "metadata": {},
   "outputs": [],
   "source": [
    "# df = pd.read_csv('train.csv')\n",
    "#test = pd.read_csv('test.csv')"
   ]
  },
  {
   "cell_type": "code",
   "execution_count": 6,
   "metadata": {
    "ExecuteTime": {
     "end_time": "2021-02-17T06:03:16.512613Z",
     "start_time": "2021-02-17T06:03:16.085235Z"
    },
    "editable": false
   },
   "outputs": [
    {
     "name": "stdout",
     "output_type": "stream",
     "text": [
      "Total number of tables:  2\n",
      "1.Test\n",
      "2.Train\n",
      "\n",
      "######## TABLE DETAILS #########\n",
      "\n",
      "1.Test(3000 rows, 13 columns)\n"
     ]
    },
    {
     "data": {
      "text/html": [
       "<div>\n",
       "<style scoped>\n",
       "    .dataframe tbody tr th:only-of-type {\n",
       "        vertical-align: middle;\n",
       "    }\n",
       "\n",
       "    .dataframe tbody tr th {\n",
       "        vertical-align: top;\n",
       "    }\n",
       "\n",
       "    .dataframe thead th {\n",
       "        text-align: right;\n",
       "    }\n",
       "</style>\n",
       "<table border=\"1\" class=\"dataframe\">\n",
       "  <thead>\n",
       "    <tr style=\"text-align: right;\">\n",
       "      <th></th>\n",
       "      <th>id</th>\n",
       "      <th>gender</th>\n",
       "      <th>ssc_pct</th>\n",
       "      <th>ssc_board</th>\n",
       "      <th>hsc_pct</th>\n",
       "      <th>hsc_board</th>\n",
       "      <th>hsc_stream</th>\n",
       "      <th>degree_pct</th>\n",
       "      <th>degree_type</th>\n",
       "      <th>work_exp</th>\n",
       "      <th>emptest_pct</th>\n",
       "      <th>stream</th>\n",
       "      <th>mba_pct</th>\n",
       "    </tr>\n",
       "  </thead>\n",
       "  <tbody>\n",
       "    <tr>\n",
       "      <th>0</th>\n",
       "      <td>20001</td>\n",
       "      <td>Female</td>\n",
       "      <td>65.16</td>\n",
       "      <td>Central Board</td>\n",
       "      <td>57.82</td>\n",
       "      <td>Central Board</td>\n",
       "      <td>Commerce</td>\n",
       "      <td>73.00</td>\n",
       "      <td>Commerce &amp; Mgmt</td>\n",
       "      <td>No</td>\n",
       "      <td>57.16</td>\n",
       "      <td>HR</td>\n",
       "      <td>59.88</td>\n",
       "    </tr>\n",
       "    <tr>\n",
       "      <th>1</th>\n",
       "      <td>20002</td>\n",
       "      <td>Male</td>\n",
       "      <td>60.47</td>\n",
       "      <td>State Board</td>\n",
       "      <td>49.34</td>\n",
       "      <td>State Board</td>\n",
       "      <td>Science</td>\n",
       "      <td>55.33</td>\n",
       "      <td>Science &amp; Tech</td>\n",
       "      <td>No</td>\n",
       "      <td>72.70</td>\n",
       "      <td>Finance</td>\n",
       "      <td>67.63</td>\n",
       "    </tr>\n",
       "  </tbody>\n",
       "</table>\n",
       "</div>"
      ],
      "text/plain": [
       "      id  gender  ssc_pct      ssc_board  hsc_pct      hsc_board hsc_stream  \\\n",
       "0  20001  Female  65.16    Central Board  57.82    Central Board  Commerce    \n",
       "1  20002  Male    60.47    State Board    49.34    State Board    Science     \n",
       "\n",
       "   degree_pct      degree_type work_exp  emptest_pct   stream  mba_pct  \n",
       "0  73.00       Commerce & Mgmt  No       57.16        HR       59.88    \n",
       "1  55.33       Science & Tech   No       72.70        Finance  67.63    "
      ]
     },
     "metadata": {},
     "output_type": "display_data"
    },
    {
     "name": "stdout",
     "output_type": "stream",
     "text": [
      "2.Train(7000 rows, 14 columns)\n"
     ]
    },
    {
     "data": {
      "text/html": [
       "<div>\n",
       "<style scoped>\n",
       "    .dataframe tbody tr th:only-of-type {\n",
       "        vertical-align: middle;\n",
       "    }\n",
       "\n",
       "    .dataframe tbody tr th {\n",
       "        vertical-align: top;\n",
       "    }\n",
       "\n",
       "    .dataframe thead th {\n",
       "        text-align: right;\n",
       "    }\n",
       "</style>\n",
       "<table border=\"1\" class=\"dataframe\">\n",
       "  <thead>\n",
       "    <tr style=\"text-align: right;\">\n",
       "      <th></th>\n",
       "      <th>id</th>\n",
       "      <th>gender</th>\n",
       "      <th>ssc_pct</th>\n",
       "      <th>ssc_board</th>\n",
       "      <th>hsc_pct</th>\n",
       "      <th>hsc_board</th>\n",
       "      <th>hsc_stream</th>\n",
       "      <th>degree_pct</th>\n",
       "      <th>degree_type</th>\n",
       "      <th>work_exp</th>\n",
       "      <th>emptest_pct</th>\n",
       "      <th>stream</th>\n",
       "      <th>mba_pct</th>\n",
       "      <th>status</th>\n",
       "    </tr>\n",
       "  </thead>\n",
       "  <tbody>\n",
       "    <tr>\n",
       "      <th>0</th>\n",
       "      <td>10001</td>\n",
       "      <td>Female</td>\n",
       "      <td>69.31</td>\n",
       "      <td>Central Board</td>\n",
       "      <td>73.31</td>\n",
       "      <td>Central Board</td>\n",
       "      <td>Commerce</td>\n",
       "      <td>65.10</td>\n",
       "      <td>Commerce &amp; Mgmt</td>\n",
       "      <td>No</td>\n",
       "      <td>70.92</td>\n",
       "      <td>Finance</td>\n",
       "      <td>56.70</td>\n",
       "      <td>0</td>\n",
       "    </tr>\n",
       "    <tr>\n",
       "      <th>1</th>\n",
       "      <td>10002</td>\n",
       "      <td>Male</td>\n",
       "      <td>67.12</td>\n",
       "      <td>Central Board</td>\n",
       "      <td>85.11</td>\n",
       "      <td>State Board</td>\n",
       "      <td>Commerce</td>\n",
       "      <td>73.63</td>\n",
       "      <td>Commerce &amp; Mgmt</td>\n",
       "      <td>No</td>\n",
       "      <td>87.40</td>\n",
       "      <td>Finance</td>\n",
       "      <td>60.76</td>\n",
       "      <td>0</td>\n",
       "    </tr>\n",
       "  </tbody>\n",
       "</table>\n",
       "</div>"
      ],
      "text/plain": [
       "      id  gender  ssc_pct      ssc_board  hsc_pct      hsc_board hsc_stream  \\\n",
       "0  10001  Female  69.31    Central Board  73.31    Central Board  Commerce    \n",
       "1  10002  Male    67.12    Central Board  85.11    State Board    Commerce    \n",
       "\n",
       "   degree_pct      degree_type work_exp  emptest_pct   stream  mba_pct  status  \n",
       "0  65.10       Commerce & Mgmt  No       70.92        Finance  56.70    0       \n",
       "1  73.63       Commerce & Mgmt  No       87.40        Finance  60.76    0       "
      ]
     },
     "metadata": {},
     "output_type": "display_data"
    }
   ],
   "source": [
    "%ath_table\n",
    "\n",
    "# Lists the details of the tables (datasets) available in the point & click view\n",
    "# Use '%ath_table -a <table_name> -l <python_dataframe_name>' to load the table to a Python dataframe.\n",
    "# Alternatively, python_dataframe_name = data_converter.convert_my_table_to_df('<table_name>') can also be used to load the table to a Python dataframe.\n"
   ]
  },
  {
   "cell_type": "code",
   "execution_count": 7,
   "metadata": {
    "ExecuteTime": {
     "end_time": "2021-02-17T06:03:16.997052Z",
     "start_time": "2021-02-17T06:03:16.598380Z"
    }
   },
   "outputs": [
    {
     "name": "stdout",
     "output_type": "stream",
     "text": [
      "Loaded table Train as dataframe\n",
      "Loaded table Test as dataframe\n"
     ]
    }
   ],
   "source": [
    "df = data_converter.convert_my_table_to_df('Train')\n",
    "test = data_converter.convert_my_table_to_df('Test')"
   ]
  },
  {
   "cell_type": "code",
   "execution_count": 8,
   "metadata": {
    "ExecuteTime": {
     "end_time": "2021-02-17T06:03:17.004075Z",
     "start_time": "2021-02-17T06:03:16.999468Z"
    },
    "hide_input": false
   },
   "outputs": [],
   "source": [
    "features = ['gender', 'ssc_pct','hsc_pct','degree_pct','emptest_pct','stream', 'mba_pct']\n",
    "X = df[features]\n",
    "y = df.iloc[:,-1]\n"
   ]
  },
  {
   "cell_type": "markdown",
   "metadata": {},
   "source": [
    "**Converting String to Vector**"
   ]
  },
  {
   "cell_type": "code",
   "execution_count": 9,
   "metadata": {
    "ExecuteTime": {
     "end_time": "2021-02-17T06:03:17.110154Z",
     "start_time": "2021-02-17T06:03:17.097586Z"
    }
   },
   "outputs": [],
   "source": [
    "X = pd.get_dummies(X)"
   ]
  },
  {
   "cell_type": "markdown",
   "metadata": {},
   "source": [
    "**Checking Null Values**"
   ]
  },
  {
   "cell_type": "code",
   "execution_count": 10,
   "metadata": {
    "ExecuteTime": {
     "end_time": "2021-02-17T06:03:17.202942Z",
     "start_time": "2021-02-17T06:03:17.196296Z"
    }
   },
   "outputs": [
    {
     "data": {
      "text/plain": [
       "ssc_pct           110\n",
       "hsc_pct           244\n",
       "degree_pct        172\n",
       "emptest_pct       182\n",
       "mba_pct           268\n",
       "gender_Female     0  \n",
       "gender_Male       0  \n",
       "stream_Finance    0  \n",
       "stream_HR         0  \n",
       "dtype: int64"
      ]
     },
     "execution_count": 10,
     "metadata": {},
     "output_type": "execute_result"
    }
   ],
   "source": [
    "X.isna().sum()"
   ]
  },
  {
   "cell_type": "markdown",
   "metadata": {},
   "source": [
    "**Data Processing ( Dealing with Missing Values)**"
   ]
  },
  {
   "cell_type": "code",
   "execution_count": 11,
   "metadata": {
    "ExecuteTime": {
     "end_time": "2021-02-17T06:03:20.515783Z",
     "start_time": "2021-02-17T06:03:17.204585Z"
    }
   },
   "outputs": [],
   "source": [
    "from sklearn.impute import SimpleImputer\n",
    "imputer = SimpleImputer(strategy = 'most_frequent')\n",
    "X= imputer.fit_transform(X)"
   ]
  },
  {
   "cell_type": "markdown",
   "metadata": {},
   "source": [
    "**Dataset Spliting**"
   ]
  },
  {
   "cell_type": "code",
   "execution_count": 12,
   "metadata": {
    "ExecuteTime": {
     "end_time": "2021-02-17T06:03:20.603066Z",
     "start_time": "2021-02-17T06:03:20.597972Z"
    }
   },
   "outputs": [],
   "source": [
    "from sklearn.model_selection import train_test_split\n",
    "X_train,X_test,y_train,y_test = train_test_split(X,y,test_size=0.2)"
   ]
  },
  {
   "cell_type": "markdown",
   "metadata": {},
   "source": [
    "**Importing Libraries**"
   ]
  },
  {
   "cell_type": "code",
   "execution_count": 13,
   "metadata": {
    "ExecuteTime": {
     "end_time": "2021-02-17T06:03:20.797737Z",
     "start_time": "2021-02-17T06:03:20.605172Z"
    }
   },
   "outputs": [],
   "source": [
    "from sklearn.pipeline import Pipeline\n",
    "from sklearn.preprocessing import StandardScaler\n",
    "from sklearn.decomposition import PCA\n",
    "from sklearn.ensemble import ExtraTreesClassifier\n",
    "from sklearn.ensemble import BaggingClassifier\n",
    "from sklearn.ensemble import GradientBoostingClassifier\n",
    "from sklearn.ensemble import AdaBoostClassifier\n",
    "from sklearn.tree import DecisionTreeClassifier\n",
    "from sklearn.tree import ExtraTreeClassifier\n",
    "from sklearn.metrics import confusion_matrix,accuracy_score"
   ]
  },
  {
   "cell_type": "markdown",
   "metadata": {},
   "source": [
    "**Pipeline of Various Classification models**"
   ]
  },
  {
   "cell_type": "code",
   "execution_count": 14,
   "metadata": {
    "ExecuteTime": {
     "end_time": "2021-02-17T06:03:20.805850Z",
     "start_time": "2021-02-17T06:03:20.799570Z"
    }
   },
   "outputs": [],
   "source": [
    "et_pl = Pipeline([('scaling1',StandardScaler()),\n",
    "                  ('et',ExtraTreesClassifier(random_state=1 , criterion ='entropy'))])\n",
    "\n",
    "bc_pl = Pipeline([('scaling2',StandardScaler()),\n",
    "                  ('bc',BaggingClassifier())])\n",
    "\n",
    "gb_pl = Pipeline([('scaling3',StandardScaler()),\n",
    "                  ('gb',GradientBoostingClassifier(learning_rate = 0.5))])\n",
    "\n",
    "ab_pl = Pipeline([('scaling4',StandardScaler()),\n",
    "                  ('ab',AdaBoostClassifier(learning_rate = 0.5))])\n",
    "\n",
    "dt_pl = Pipeline([('scaling5',StandardScaler()),\n",
    "                  ('dt',DecisionTreeClassifier(random_state =1,criterion = 'entropy'))])\n"
   ]
  },
  {
   "cell_type": "markdown",
   "metadata": {},
   "source": [
    "**Confusion and Acc"
   ]
  },
  {
   "cell_type": "code",
   "execution_count": 17,
   "metadata": {
    "ExecuteTime": {
     "end_time": "2021-02-17T06:04:45.303896Z",
     "start_time": "2021-02-17T06:04:35.475846Z"
    }
   },
   "outputs": [
    {
     "data": {
      "text/plain": [
       "Pipeline(steps=[('scaling1', StandardScaler()),\n",
       "                ('et',\n",
       "                 ExtraTreesClassifier(criterion='entropy', random_state=1))])"
      ]
     },
     "execution_count": 17,
     "metadata": {},
     "output_type": "execute_result"
    },
    {
     "data": {
      "text/plain": [
       "Pipeline(steps=[('scaling2', StandardScaler()), ('bc', BaggingClassifier())])"
      ]
     },
     "execution_count": 17,
     "metadata": {},
     "output_type": "execute_result"
    },
    {
     "data": {
      "text/plain": [
       "Pipeline(steps=[('scaling3', StandardScaler()),\n",
       "                ('gb', GradientBoostingClassifier(learning_rate=0.5))])"
      ]
     },
     "execution_count": 17,
     "metadata": {},
     "output_type": "execute_result"
    },
    {
     "data": {
      "text/plain": [
       "Pipeline(steps=[('scaling4', StandardScaler()),\n",
       "                ('ab', AdaBoostClassifier(learning_rate=0.5))])"
      ]
     },
     "execution_count": 17,
     "metadata": {},
     "output_type": "execute_result"
    },
    {
     "data": {
      "text/plain": [
       "Pipeline(steps=[('scaling5', StandardScaler()),\n",
       "                ('dt',\n",
       "                 DecisionTreeClassifier(criterion='entropy', random_state=1))])"
      ]
     },
     "execution_count": 17,
     "metadata": {},
     "output_type": "execute_result"
    },
    {
     "name": "stdout",
     "output_type": "stream",
     "text": [
      "Pipeline(steps=[('scaling1', StandardScaler()),\n",
      "                ('et',\n",
      "                 ExtraTreesClassifier(criterion='entropy', random_state=1))]) accuracy is : 0.8928571428571429\n",
      "Pipeline(steps=[('scaling2', StandardScaler()), ('bc', BaggingClassifier())]) accuracy is : 0.8921428571428571\n",
      "Pipeline(steps=[('scaling3', StandardScaler()),\n",
      "                ('gb', GradientBoostingClassifier(learning_rate=0.5))]) accuracy is : 0.8814285714285715\n",
      "Pipeline(steps=[('scaling4', StandardScaler()),\n",
      "                ('ab', AdaBoostClassifier(learning_rate=0.5))]) accuracy is : 0.825\n",
      "Pipeline(steps=[('scaling5', StandardScaler()),\n",
      "                ('dt',\n",
      "                 DecisionTreeClassifier(criterion='entropy', random_state=1))]) accuracy is : 0.8607142857142858\n"
     ]
    }
   ],
   "source": [
    "pipelines = [et_pl, bc_pl, gb_pl, ab_pl, dt_pl ]\n",
    "for pipe in pipelines:\n",
    "    pipe.fit(X_train,y_train)\n",
    "\n",
    "for items in pipelines:\n",
    "    y_pred = items.predict(X_test)\n",
    "    y_pred = y_pred.reshape(len(y_pred),1)\n",
    "    cm = confusion_matrix(y_test,y_pred)\n",
    "    a = accuracy_score(y_test,y_pred)\n",
    "    print(\"{} accuracy is : {}\".format(items,a))"
   ]
  },
  {
   "cell_type": "code",
   "execution_count": 22,
   "metadata": {
    "ExecuteTime": {
     "end_time": "2021-02-17T06:09:29.410319Z",
     "start_time": "2021-02-17T06:09:29.026409Z"
    }
   },
   "outputs": [],
   "source": [
    "#Bagging Classifier is giving best results , we will use it to make predictions on X_test\n",
    "Pred_test = test[features]\n",
    "\n",
    "Pred_test = pd.get_dummies(Pred_test)\n",
    "\n",
    "imputer_1 = SimpleImputer(strategy = 'most_frequent')\n",
    "Pred_test = imputer_1.fit_transform(Pred_test)\n",
    "\n",
    "Predictions = et_pl.predict(Pred_test)"
   ]
  },
  {
   "cell_type": "code",
   "execution_count": 27,
   "metadata": {
    "ExecuteTime": {
     "end_time": "2021-02-17T06:17:44.551443Z",
     "start_time": "2021-02-17T06:17:44.546424Z"
    },
    "hide_input": false
   },
   "outputs": [
    {
     "data": {
      "text/plain": [
       "(3000, 1)"
      ]
     },
     "execution_count": 27,
     "metadata": {},
     "output_type": "execute_result"
    }
   ],
   "source": [
    "test['Predictions']"
   ]
  },
  {
   "cell_type": "code",
   "execution_count": 29,
   "metadata": {
    "ExecuteTime": {
     "end_time": "2021-02-17T06:20:02.051396Z",
     "start_time": "2021-02-17T06:20:01.706264Z"
    }
   },
   "outputs": [
    {
     "data": {
      "text/plain": [
       "'Successfully added dataframe as a new table. Move to point & click to view the file.'"
      ]
     },
     "execution_count": 29,
     "metadata": {},
     "output_type": "execute_result"
    }
   ],
   "source": [
    "data_converter.convert_df_to_my_table(Prediction_df)"
   ]
  },
  {
   "cell_type": "code",
   "execution_count": null,
   "metadata": {},
   "outputs": [],
   "source": []
  }
 ],
 "metadata": {
  "ath_info": {
   "auth": "",
   "baseApiUrl": "https://leapsapi.analyttica.com",
   "baseDataUrl": "https://leapsdata.analyttica.com",
   "consoleStepUrl": "https://leapsapi.analyttica.com/console/jhub/steps",
   "createStepUrl": {
    "ContentType": "application/vnd.Analyttica.TreasureHunt.UserStep+json",
    "href": "/step/users/157916/solveDetail/104531/steps",
    "method": "POST"
   },
   "dataObjectPrefix": "dataobject_",
   "deleteSolveNoteUrl": {
    "ContentType": "application/json",
    "href": "/step/users/157916/solveDetail/104531/deleteNotes",
    "method": "POST"
   },
   "deleteStepNoteUrl": {
    "ContentType": "application/json",
    "href": "/step/users/157916/solveDetail/104531/step/stepId/{stepId}/deleteNotes",
    "method": "POST"
   },
   "discardUrl": {
    "ContentType": "application/json",
    "href": "/step/users/157916/solveDetail/104531/discardDraft",
    "method": "POST"
   },
   "funcDetailsByNameUrl": {
    "ContentType": "application/json",
    "href": "/functions/name/{functionName}/functionDetails",
    "method": "GET"
   },
   "outputRowLimit": "200",
   "preAuth": "{\"id\":\"ed22e586-48bf-4479-a324-af5004b9d2fc\",\"mappingId\":157916,\"mapping_id\":157916,\"name\":\"Prasant kumar\",\"email\":\"prasantdixit987@gmail.com\",\"profileUrl\":null,\"password\":\"*****\",\"enabled\":true,\"userType\":\"individual\",\"tenant\":{\"id\":\"da49652c-ba7d-4531-b610-a50cf856d841\",\"name\":\"analyttica\"},\"userTenantId\":\"68051f93-f339-492b-ae90-2ac28c6db4d2\",\"userTenantStatus\":null,\"currency\":\"INR\",\"createdOn\":\"2021-02-15T12:59:15.000+0000\",\"lastModifiedOn\":\"2021-02-15T12:59:15.000+0000\",\"roles\":[{\"id\":21,\"name\":\"B2C_BASIC_USER\",\"users\":null,\"privileges\":null}],\"privileges\":[{\"name\":\"CREATE_CASE\"},{\"name\":\"ENROLL_COURSE\"},{\"name\":\"ADD_COLLABORATOR\"},{\"name\":\"B2C_DEFAULT_PLAN_EMAIL\"},{\"name\":\"ACCESS_CONSOLE\"},{\"name\":\"ADD_NOTE\"},{\"name\":\"UPLOAD_DATA\"},{\"name\":\"ADD_COMMENT\"},{\"name\":\"MODIFY_DASHBOARD\"},{\"name\":\"VIEW_COURSE_SCORE\"}],\"planVariantId\":null,\"subscriptionExpiryDate\":null}",
   "saveNotesUrl": "https://leapsapi.analyttica.com/console/jhub/save-notes",
   "saveSolveNoteUrl": {
    "ContentType": "application/json",
    "href": "/step/users/157916/solveDetail/104531/saveNotes",
    "method": "POST"
   },
   "saveStepNoteUrl": {
    "ContentType": "application/json",
    "href": "/step/users/157916/solveDetail/104531/step/saveNotes",
    "method": "POST"
   },
   "solveId": 104531,
   "stagingAreaPath": "/output/da49652c-ba7d-4531-b610-a50cf856d841/solve_104531/user_157916/data",
   "tenantId": "da49652c-ba7d-4531-b610-a50cf856d841",
   "token": "c660c56d5f24484e9e000cfea429e128",
   "uiDataRowLimit": "200",
   "urls": {
    "addDatasetsUrl": {
     "ContentType": "application/vnd.Analyttica.TreasureHunt.PathDTO+json",
     "href": "/step/users/157916/solveDetail/104531/addDatasets",
     "method": "POST"
    },
    "aliasUrl": {
     "ContentType": "application/json",
     "href": "/step/users/157916/solveDetail/104531/table/getLatest",
     "method": "GET"
    },
    "allAliasUrl": {
     "ContentType": "application/json",
     "href": "/step/users/157916/solveDetail/104531/table/getAll",
     "method": "GET"
    },
    "createStepUrl": {
     "ContentType": "application/vnd.Analyttica.TreasureHunt.UserStep+json",
     "href": "/step/users/157916/solveDetail/104531/steps",
     "method": "POST"
    },
    "dataObjectDetails": {
     "ContentType": "application/json",
     "href": "/step/users/157916/dataObject/getDataObjectAll",
     "method": "GET"
    },
    "dataObjectNameValidationUrl": {
     "ContentType": "application/json",
     "href": "/step/users/157916/dataObject/validate/{dataObjectName}",
     "method": "GET"
    },
    "deleteDataObject": {
     "ContentType": "application/json",
     "href": "/file/deleteDataObject",
     "method": "PUT"
    },
    "detailsUrl": {
     "ContentType": "application/json",
     "href": "/functions/{functionId}/functionDetails",
     "method": "GET"
    },
    "searchUrl": {
     "ContentType": "application/json",
     "href": "/functions/suggestions?query",
     "method": "GET"
    }
   },
   "userId": 157916
  },
  "kernelspec": {
   "display_name": "Python 3",
   "language": "python",
   "name": "python3"
  },
  "language_info": {
   "codemirror_mode": {
    "name": "ipython",
    "version": 3
   },
   "file_extension": ".py",
   "mimetype": "text/x-python",
   "name": "python",
   "nbconvert_exporter": "python",
   "pygments_lexer": "ipython3",
   "version": "3.8.3"
  },
  "toc": {
   "base_numbering": 1,
   "nav_menu": {},
   "number_sections": true,
   "sideBar": true,
   "skip_h1_title": false,
   "title_cell": "Table of Contents",
   "title_sidebar": "Contents",
   "toc_cell": false,
   "toc_position": {},
   "toc_section_display": true,
   "toc_window_display": false
  }
 },
 "nbformat": 4,
 "nbformat_minor": 2
}
