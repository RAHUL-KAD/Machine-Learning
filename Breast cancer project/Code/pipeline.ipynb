{
  "nbformat": 4,
  "nbformat_minor": 0,
  "metadata": {
    "colab": {
      "name": "pipeline.ipynb",
      "provenance": []
    },
    "kernelspec": {
      "name": "python3",
      "display_name": "Python 3"
    }
  },
  "cells": [
    {
      "cell_type": "markdown",
      "metadata": {
        "id": "ZWh-5lpbtvJv"
      },
      "source": [
        "importing the libraries"
      ]
    },
    {
      "cell_type": "code",
      "metadata": {
        "id": "6mPmeYKpeBde"
      },
      "source": [
        "import numpy as np\r\n",
        "import pandas as pd\r\n",
        "import matplotlib.pyplot as plt"
      ],
      "execution_count": 305,
      "outputs": []
    },
    {
      "cell_type": "markdown",
      "metadata": {
        "id": "Ph8XIu3ntyG7"
      },
      "source": [
        "importing the dataset"
      ]
    },
    {
      "cell_type": "code",
      "metadata": {
        "id": "UFnnyI8oeUxb"
      },
      "source": [
        "header_names = ['id', ' Clump Thickness', 'Uniformity of Cell Size', 'Uniformity of Cell Shape', 'Marginal Adhesion', 'Single Epithelial Cell Size', 'Bare Nuclei', 'Bland Chromatin', \r\n",
        "                'Normal Nucleoli', 'Mitoses', 'Class']\r\n",
        "dataset = pd.read_csv('/content/breast_cancer.csv', names=header_names)\r\n",
        "dataset.drop(['id', 'Bare Nuclei'], axis = 1, inplace=True)"
      ],
      "execution_count": 316,
      "outputs": []
    },
    {
      "cell_type": "code",
      "metadata": {
        "id": "sDPzp-kVfWw5"
      },
      "source": [
        "X = dataset.iloc[:, :-1].values\r\n",
        "y = dataset.iloc[:, -1].values"
      ],
      "execution_count": 317,
      "outputs": []
    },
    {
      "cell_type": "code",
      "metadata": {
        "id": "xIvnmCcpfi1I"
      },
      "source": [
        "from sklearn.model_selection import train_test_split\r\n",
        "X_train, X_test, y_train, y_test = train_test_split(X, y, test_size = 0.2, random_state = 0)"
      ],
      "execution_count": 318,
      "outputs": []
    },
    {
      "cell_type": "code",
      "metadata": {
        "colab": {
          "base_uri": "https://localhost:8080/"
        },
        "id": "0jCU7TDUgMSK",
        "outputId": "c57f2e2f-3c34-443d-96cc-09ca2dace3ca"
      },
      "source": [
        "X_train.shape, X_test.shape, y_train.shape, y_test.shape"
      ],
      "execution_count": 319,
      "outputs": [
        {
          "output_type": "execute_result",
          "data": {
            "text/plain": [
              "((559, 8), (140, 8), (559,), (140,))"
            ]
          },
          "metadata": {
            "tags": []
          },
          "execution_count": 319
        }
      ]
    },
    {
      "cell_type": "code",
      "metadata": {
        "id": "FVSzHNvUgPBm"
      },
      "source": [
        "from sklearn.pipeline import Pipeline\r\n",
        "from sklearn.preprocessing import StandardScaler\r\n",
        "from sklearn.linear_model import LogisticRegression\r\n",
        "from sklearn.svm import SVC\r\n",
        "from sklearn.neighbors import KNeighborsClassifier\r\n",
        "from sklearn.naive_bayes import GaussianNB\r\n",
        "from sklearn.tree import DecisionTreeClassifier\r\n",
        "from sklearn.ensemble import RandomForestClassifier"
      ],
      "execution_count": 320,
      "outputs": []
    },
    {
      "cell_type": "code",
      "metadata": {
        "id": "-Pua_CGagcId"
      },
      "source": [
        "linear_pipeline = Pipeline([('scaler1', StandardScaler()),\r\n",
        "                            ('Linear', LogisticRegression(random_state = 0))])\r\n",
        "svm_pipeline = Pipeline([('scaler2', StandardScaler()),\r\n",
        "                            ('svm', SVC(kernel = 'linear', random_state = 0))])"
      ],
      "execution_count": 321,
      "outputs": []
    },
    {
      "cell_type": "code",
      "metadata": {
        "id": "TRos0IVqggtt"
      },
      "source": [
        "kernel_pipeline = Pipeline([('scaler3', StandardScaler()),\r\n",
        "                            ('kernel', SVC(kernel = 'rbf', random_state = 0))])\r\n",
        "knn_pipeline = Pipeline([('scaler4', StandardScaler()),\r\n",
        "                            ('knn', KNeighborsClassifier(n_neighbors=5))])"
      ],
      "execution_count": 322,
      "outputs": []
    },
    {
      "cell_type": "code",
      "metadata": {
        "id": "InuGrwAQgloc"
      },
      "source": [
        "decision_pipeline = Pipeline([('scaler6', StandardScaler()),\r\n",
        "                            ('decision', DecisionTreeClassifier(criterion='entropy', random_state = 0))])\r\n",
        "random_pipeline = Pipeline([('scaler7', StandardScaler()),\r\n",
        "                            ('random_tree', RandomForestClassifier(n_estimators = 10, criterion='entropy', random_state = 0))])"
      ],
      "execution_count": 323,
      "outputs": []
    },
    {
      "cell_type": "code",
      "metadata": {
        "id": "8wdQS-Sagpki"
      },
      "source": [
        "pipelines = [linear_pipeline, svm_pipeline, kernel_pipeline, knn_pipeline, decision_pipeline, random_pipeline]"
      ],
      "execution_count": 324,
      "outputs": []
    },
    {
      "cell_type": "code",
      "metadata": {
        "colab": {
          "base_uri": "https://localhost:8080/"
        },
        "id": "irV-Xxeugt7h",
        "outputId": "b93c2479-3354-4549-b8b9-187c7aab3be0"
      },
      "source": [
        "for pipe in pipelines:\r\n",
        "    pipe.fit(X_train, y_train)\r\n",
        "    score = pipe.score(X_test, y_test)\r\n",
        "    print(score)"
      ],
      "execution_count": 325,
      "outputs": [
        {
          "output_type": "stream",
          "text": [
            "0.9571428571428572\n",
            "0.9714285714285714\n",
            "0.9714285714285714\n",
            "0.95\n",
            "0.9214285714285714\n",
            "0.9785714285714285\n"
          ],
          "name": "stdout"
        }
      ]
    }
  ]
}